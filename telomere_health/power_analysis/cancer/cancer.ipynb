{
 "cells": [
  {
   "cell_type": "code",
   "execution_count": 1,
   "id": "1226884d",
   "metadata": {},
   "outputs": [],
   "source": [
    "import pingouin as pg\n",
    "import pandas as pd"
   ]
  },
  {
   "cell_type": "markdown",
   "id": "94e325a2",
   "metadata": {},
   "source": [
    "Loading Data"
   ]
  },
  {
   "cell_type": "code",
   "execution_count": 12,
   "id": "085bd66f",
   "metadata": {},
   "outputs": [],
   "source": [
    "cancer_data = pd.read_csv(\"cancer.csv\")"
   ]
  },
  {
   "cell_type": "code",
   "execution_count": 13,
   "id": "33867c66",
   "metadata": {},
   "outputs": [
    {
     "data": {
      "text/html": [
       "<div>\n",
       "<style scoped>\n",
       "    .dataframe tbody tr th:only-of-type {\n",
       "        vertical-align: middle;\n",
       "    }\n",
       "\n",
       "    .dataframe tbody tr th {\n",
       "        vertical-align: top;\n",
       "    }\n",
       "\n",
       "    .dataframe thead th {\n",
       "        text-align: right;\n",
       "    }\n",
       "</style>\n",
       "<table border=\"1\" class=\"dataframe\">\n",
       "  <thead>\n",
       "    <tr style=\"text-align: right;\">\n",
       "      <th></th>\n",
       "      <th>Clinically healthy</th>\n",
       "      <th>Single condition: Cancer</th>\n",
       "      <th>Cancer and at least one other condition</th>\n",
       "    </tr>\n",
       "  </thead>\n",
       "  <tbody>\n",
       "    <tr>\n",
       "      <th>0</th>\n",
       "      <td>11.34</td>\n",
       "      <td>13.72</td>\n",
       "      <td>9.59</td>\n",
       "    </tr>\n",
       "    <tr>\n",
       "      <th>1</th>\n",
       "      <td>22.15</td>\n",
       "      <td>10.83</td>\n",
       "      <td>17.50</td>\n",
       "    </tr>\n",
       "    <tr>\n",
       "      <th>2</th>\n",
       "      <td>1.81</td>\n",
       "      <td>14.06</td>\n",
       "      <td>32.09</td>\n",
       "    </tr>\n",
       "    <tr>\n",
       "      <th>3</th>\n",
       "      <td>8.97</td>\n",
       "      <td>16.52</td>\n",
       "      <td>30.27</td>\n",
       "    </tr>\n",
       "    <tr>\n",
       "      <th>4</th>\n",
       "      <td>8.36</td>\n",
       "      <td>10.15</td>\n",
       "      <td>6.90</td>\n",
       "    </tr>\n",
       "    <tr>\n",
       "      <th>...</th>\n",
       "      <td>...</td>\n",
       "      <td>...</td>\n",
       "      <td>...</td>\n",
       "    </tr>\n",
       "    <tr>\n",
       "      <th>268</th>\n",
       "      <td>13.59</td>\n",
       "      <td>NaN</td>\n",
       "      <td>NaN</td>\n",
       "    </tr>\n",
       "    <tr>\n",
       "      <th>269</th>\n",
       "      <td>13.78</td>\n",
       "      <td>NaN</td>\n",
       "      <td>NaN</td>\n",
       "    </tr>\n",
       "    <tr>\n",
       "      <th>270</th>\n",
       "      <td>9.51</td>\n",
       "      <td>NaN</td>\n",
       "      <td>NaN</td>\n",
       "    </tr>\n",
       "    <tr>\n",
       "      <th>271</th>\n",
       "      <td>15.92</td>\n",
       "      <td>NaN</td>\n",
       "      <td>NaN</td>\n",
       "    </tr>\n",
       "    <tr>\n",
       "      <th>272</th>\n",
       "      <td>7.82</td>\n",
       "      <td>NaN</td>\n",
       "      <td>NaN</td>\n",
       "    </tr>\n",
       "  </tbody>\n",
       "</table>\n",
       "<p>273 rows × 3 columns</p>\n",
       "</div>"
      ],
      "text/plain": [
       "     Clinically healthy  Single condition: Cancer  \\\n",
       "0                 11.34                     13.72   \n",
       "1                 22.15                     10.83   \n",
       "2                  1.81                     14.06   \n",
       "3                  8.97                     16.52   \n",
       "4                  8.36                     10.15   \n",
       "..                  ...                       ...   \n",
       "268               13.59                       NaN   \n",
       "269               13.78                       NaN   \n",
       "270                9.51                       NaN   \n",
       "271               15.92                       NaN   \n",
       "272                7.82                       NaN   \n",
       "\n",
       "     Cancer and at least one other condition  \n",
       "0                                       9.59  \n",
       "1                                      17.50  \n",
       "2                                      32.09  \n",
       "3                                      30.27  \n",
       "4                                       6.90  \n",
       "..                                       ...  \n",
       "268                                      NaN  \n",
       "269                                      NaN  \n",
       "270                                      NaN  \n",
       "271                                      NaN  \n",
       "272                                      NaN  \n",
       "\n",
       "[273 rows x 3 columns]"
      ]
     },
     "execution_count": 13,
     "metadata": {},
     "output_type": "execute_result"
    }
   ],
   "source": [
    "cancer_data"
   ]
  },
  {
   "cell_type": "markdown",
   "id": "3079f190",
   "metadata": {},
   "source": [
    "Converting Data into Long Format (One Row One Observation)"
   ]
  },
  {
   "cell_type": "code",
   "execution_count": 15,
   "id": "5b75528e",
   "metadata": {},
   "outputs": [],
   "source": [
    "cancer_data_cleaned = cancer_data.melt(var_name='Cancer Diagnosis', value_name='Telomere Length').dropna()"
   ]
  },
  {
   "cell_type": "code",
   "execution_count": 16,
   "id": "49fd83e8",
   "metadata": {},
   "outputs": [
    {
     "data": {
      "text/html": [
       "<div>\n",
       "<style scoped>\n",
       "    .dataframe tbody tr th:only-of-type {\n",
       "        vertical-align: middle;\n",
       "    }\n",
       "\n",
       "    .dataframe tbody tr th {\n",
       "        vertical-align: top;\n",
       "    }\n",
       "\n",
       "    .dataframe thead th {\n",
       "        text-align: right;\n",
       "    }\n",
       "</style>\n",
       "<table border=\"1\" class=\"dataframe\">\n",
       "  <thead>\n",
       "    <tr style=\"text-align: right;\">\n",
       "      <th></th>\n",
       "      <th>Cancer Diagnosis</th>\n",
       "      <th>Telomere Length</th>\n",
       "    </tr>\n",
       "  </thead>\n",
       "  <tbody>\n",
       "    <tr>\n",
       "      <th>0</th>\n",
       "      <td>Clinically healthy</td>\n",
       "      <td>11.34</td>\n",
       "    </tr>\n",
       "    <tr>\n",
       "      <th>1</th>\n",
       "      <td>Clinically healthy</td>\n",
       "      <td>22.15</td>\n",
       "    </tr>\n",
       "    <tr>\n",
       "      <th>2</th>\n",
       "      <td>Clinically healthy</td>\n",
       "      <td>1.81</td>\n",
       "    </tr>\n",
       "    <tr>\n",
       "      <th>3</th>\n",
       "      <td>Clinically healthy</td>\n",
       "      <td>8.97</td>\n",
       "    </tr>\n",
       "    <tr>\n",
       "      <th>4</th>\n",
       "      <td>Clinically healthy</td>\n",
       "      <td>8.36</td>\n",
       "    </tr>\n",
       "    <tr>\n",
       "      <th>...</th>\n",
       "      <td>...</td>\n",
       "      <td>...</td>\n",
       "    </tr>\n",
       "    <tr>\n",
       "      <th>592</th>\n",
       "      <td>Cancer and at least one other condition</td>\n",
       "      <td>8.32</td>\n",
       "    </tr>\n",
       "    <tr>\n",
       "      <th>593</th>\n",
       "      <td>Cancer and at least one other condition</td>\n",
       "      <td>9.72</td>\n",
       "    </tr>\n",
       "    <tr>\n",
       "      <th>594</th>\n",
       "      <td>Cancer and at least one other condition</td>\n",
       "      <td>4.35</td>\n",
       "    </tr>\n",
       "    <tr>\n",
       "      <th>595</th>\n",
       "      <td>Cancer and at least one other condition</td>\n",
       "      <td>7.76</td>\n",
       "    </tr>\n",
       "    <tr>\n",
       "      <th>596</th>\n",
       "      <td>Cancer and at least one other condition</td>\n",
       "      <td>5.56</td>\n",
       "    </tr>\n",
       "  </tbody>\n",
       "</table>\n",
       "<p>372 rows × 2 columns</p>\n",
       "</div>"
      ],
      "text/plain": [
       "                            Cancer Diagnosis  Telomere Length\n",
       "0                         Clinically healthy            11.34\n",
       "1                         Clinically healthy            22.15\n",
       "2                         Clinically healthy             1.81\n",
       "3                         Clinically healthy             8.97\n",
       "4                         Clinically healthy             8.36\n",
       "..                                       ...              ...\n",
       "592  Cancer and at least one other condition             8.32\n",
       "593  Cancer and at least one other condition             9.72\n",
       "594  Cancer and at least one other condition             4.35\n",
       "595  Cancer and at least one other condition             7.76\n",
       "596  Cancer and at least one other condition             5.56\n",
       "\n",
       "[372 rows x 2 columns]"
      ]
     },
     "execution_count": 16,
     "metadata": {},
     "output_type": "execute_result"
    }
   ],
   "source": [
    "cancer_data_cleaned"
   ]
  },
  {
   "cell_type": "markdown",
   "id": "3207128e",
   "metadata": {},
   "source": [
    "Descriptive Statistics"
   ]
  },
  {
   "cell_type": "code",
   "execution_count": 17,
   "id": "e3b188af",
   "metadata": {},
   "outputs": [
    {
     "data": {
      "text/html": [
       "<div>\n",
       "<style scoped>\n",
       "    .dataframe tbody tr th:only-of-type {\n",
       "        vertical-align: middle;\n",
       "    }\n",
       "\n",
       "    .dataframe tbody tr th {\n",
       "        vertical-align: top;\n",
       "    }\n",
       "\n",
       "    .dataframe thead th {\n",
       "        text-align: right;\n",
       "    }\n",
       "</style>\n",
       "<table border=\"1\" class=\"dataframe\">\n",
       "  <thead>\n",
       "    <tr style=\"text-align: right;\">\n",
       "      <th></th>\n",
       "      <th>Clinically healthy</th>\n",
       "      <th>Single condition: Cancer</th>\n",
       "      <th>Cancer and at least one other condition</th>\n",
       "    </tr>\n",
       "  </thead>\n",
       "  <tbody>\n",
       "    <tr>\n",
       "      <th>count</th>\n",
       "      <td>273.000000</td>\n",
       "      <td>48.000000</td>\n",
       "      <td>51.000000</td>\n",
       "    </tr>\n",
       "    <tr>\n",
       "      <th>mean</th>\n",
       "      <td>10.647949</td>\n",
       "      <td>16.555625</td>\n",
       "      <td>14.808235</td>\n",
       "    </tr>\n",
       "    <tr>\n",
       "      <th>std</th>\n",
       "      <td>7.443969</td>\n",
       "      <td>9.280937</td>\n",
       "      <td>11.210652</td>\n",
       "    </tr>\n",
       "    <tr>\n",
       "      <th>min</th>\n",
       "      <td>1.170000</td>\n",
       "      <td>3.390000</td>\n",
       "      <td>0.080000</td>\n",
       "    </tr>\n",
       "    <tr>\n",
       "      <th>25%</th>\n",
       "      <td>5.560000</td>\n",
       "      <td>10.660000</td>\n",
       "      <td>7.830000</td>\n",
       "    </tr>\n",
       "    <tr>\n",
       "      <th>50%</th>\n",
       "      <td>8.540000</td>\n",
       "      <td>13.785000</td>\n",
       "      <td>11.170000</td>\n",
       "    </tr>\n",
       "    <tr>\n",
       "      <th>75%</th>\n",
       "      <td>13.260000</td>\n",
       "      <td>19.615000</td>\n",
       "      <td>18.220000</td>\n",
       "    </tr>\n",
       "    <tr>\n",
       "      <th>max</th>\n",
       "      <td>38.830000</td>\n",
       "      <td>41.930000</td>\n",
       "      <td>52.920000</td>\n",
       "    </tr>\n",
       "  </tbody>\n",
       "</table>\n",
       "</div>"
      ],
      "text/plain": [
       "       Clinically healthy  Single condition: Cancer  \\\n",
       "count          273.000000                 48.000000   \n",
       "mean            10.647949                 16.555625   \n",
       "std              7.443969                  9.280937   \n",
       "min              1.170000                  3.390000   \n",
       "25%              5.560000                 10.660000   \n",
       "50%              8.540000                 13.785000   \n",
       "75%             13.260000                 19.615000   \n",
       "max             38.830000                 41.930000   \n",
       "\n",
       "       Cancer and at least one other condition  \n",
       "count                                51.000000  \n",
       "mean                                 14.808235  \n",
       "std                                  11.210652  \n",
       "min                                   0.080000  \n",
       "25%                                   7.830000  \n",
       "50%                                  11.170000  \n",
       "75%                                  18.220000  \n",
       "max                                  52.920000  "
      ]
     },
     "execution_count": 17,
     "metadata": {},
     "output_type": "execute_result"
    }
   ],
   "source": [
    "cancer_data.describe()"
   ]
  },
  {
   "cell_type": "code",
   "execution_count": 18,
   "id": "427d77e0",
   "metadata": {},
   "outputs": [
    {
     "data": {
      "text/html": [
       "<div>\n",
       "<style scoped>\n",
       "    .dataframe tbody tr th:only-of-type {\n",
       "        vertical-align: middle;\n",
       "    }\n",
       "\n",
       "    .dataframe tbody tr th {\n",
       "        vertical-align: top;\n",
       "    }\n",
       "\n",
       "    .dataframe thead th {\n",
       "        text-align: right;\n",
       "    }\n",
       "</style>\n",
       "<table border=\"1\" class=\"dataframe\">\n",
       "  <thead>\n",
       "    <tr style=\"text-align: right;\">\n",
       "      <th></th>\n",
       "      <th>Telomere Length</th>\n",
       "    </tr>\n",
       "  </thead>\n",
       "  <tbody>\n",
       "    <tr>\n",
       "      <th>count</th>\n",
       "      <td>372.000000</td>\n",
       "    </tr>\n",
       "    <tr>\n",
       "      <th>mean</th>\n",
       "      <td>11.980591</td>\n",
       "    </tr>\n",
       "    <tr>\n",
       "      <th>std</th>\n",
       "      <td>8.578456</td>\n",
       "    </tr>\n",
       "    <tr>\n",
       "      <th>min</th>\n",
       "      <td>0.080000</td>\n",
       "    </tr>\n",
       "    <tr>\n",
       "      <th>25%</th>\n",
       "      <td>6.095000</td>\n",
       "    </tr>\n",
       "    <tr>\n",
       "      <th>50%</th>\n",
       "      <td>9.535000</td>\n",
       "    </tr>\n",
       "    <tr>\n",
       "      <th>75%</th>\n",
       "      <td>14.975000</td>\n",
       "    </tr>\n",
       "    <tr>\n",
       "      <th>max</th>\n",
       "      <td>52.920000</td>\n",
       "    </tr>\n",
       "  </tbody>\n",
       "</table>\n",
       "</div>"
      ],
      "text/plain": [
       "       Telomere Length\n",
       "count       372.000000\n",
       "mean         11.980591\n",
       "std           8.578456\n",
       "min           0.080000\n",
       "25%           6.095000\n",
       "50%           9.535000\n",
       "75%          14.975000\n",
       "max          52.920000"
      ]
     },
     "execution_count": 18,
     "metadata": {},
     "output_type": "execute_result"
    }
   ],
   "source": [
    "cancer_data_cleaned.describe()"
   ]
  },
  {
   "cell_type": "markdown",
   "id": "0433e8e7",
   "metadata": {},
   "source": [
    "Kruskal-Wallis (H-Test)"
   ]
  },
  {
   "cell_type": "code",
   "execution_count": 19,
   "id": "a484332b",
   "metadata": {},
   "outputs": [],
   "source": [
    "kw = pg.kruskal(data=cancer_data_cleaned, dv=\"Telomere Length\", between=\"Cancer Diagnosis\", detailed=True)"
   ]
  },
  {
   "cell_type": "code",
   "execution_count": 20,
   "id": "29583aba",
   "metadata": {},
   "outputs": [
    {
     "data": {
      "text/html": [
       "<div>\n",
       "<style scoped>\n",
       "    .dataframe tbody tr th:only-of-type {\n",
       "        vertical-align: middle;\n",
       "    }\n",
       "\n",
       "    .dataframe tbody tr th {\n",
       "        vertical-align: top;\n",
       "    }\n",
       "\n",
       "    .dataframe thead th {\n",
       "        text-align: right;\n",
       "    }\n",
       "</style>\n",
       "<table border=\"1\" class=\"dataframe\">\n",
       "  <thead>\n",
       "    <tr style=\"text-align: right;\">\n",
       "      <th></th>\n",
       "      <th>Source</th>\n",
       "      <th>ddof1</th>\n",
       "      <th>H</th>\n",
       "      <th>p-unc</th>\n",
       "    </tr>\n",
       "  </thead>\n",
       "  <tbody>\n",
       "    <tr>\n",
       "      <th>Kruskal</th>\n",
       "      <td>Cancer Diagnosis</td>\n",
       "      <td>2</td>\n",
       "      <td>27.113771</td>\n",
       "      <td>0.000001</td>\n",
       "    </tr>\n",
       "  </tbody>\n",
       "</table>\n",
       "</div>"
      ],
      "text/plain": [
       "                   Source  ddof1          H     p-unc\n",
       "Kruskal  Cancer Diagnosis      2  27.113771  0.000001"
      ]
     },
     "execution_count": 20,
     "metadata": {},
     "output_type": "execute_result"
    }
   ],
   "source": [
    "kw"
   ]
  },
  {
   "cell_type": "markdown",
   "id": "1707ea85",
   "metadata": {},
   "source": [
    "H-Statistic → η² → Cohen's f"
   ]
  },
  {
   "cell_type": "code",
   "execution_count": 24,
   "id": "05496f0b",
   "metadata": {},
   "outputs": [],
   "source": [
    "sample_size = 372\n",
    "groups = 3"
   ]
  },
  {
   "cell_type": "code",
   "execution_count": 25,
   "id": "8cbd8ecd",
   "metadata": {},
   "outputs": [],
   "source": [
    "kw_H = kw['H'].squeeze()\n",
    "kw_n2 = (((kw_H - groups) + 1)/(sample_size-groups))\n",
    "kw_cohens_f = ((kw_n2/(1-kw_n2))**0.5)"
   ]
  },
  {
   "cell_type": "code",
   "execution_count": 29,
   "id": "19315940",
   "metadata": {},
   "outputs": [
    {
     "name": "stdout",
     "output_type": "stream",
     "text": [
      "Sample Size: 372\n",
      "No. groups 3\n",
      "Effect size (η²): 0.06805900055020131\n",
      "Cohen's f of the test is: 0.27\n",
      "Computed Power is: 0.997 (G*Power)\n"
     ]
    }
   ],
   "source": [
    "print(f\"Sample Size: {sample_size}\")\n",
    "print(f\"No. groups {groups}\")\n",
    "print(f\"Effect size (η²): {kw_n2}\")\n",
    "print(f\"Cohen's f of the test is: {kw_cohens_f.round(3)}\")\n",
    "print(f\"Computed Power is: 0.997 (G*Power)\")"
   ]
  }
 ],
 "metadata": {
  "kernelspec": {
   "display_name": "venv",
   "language": "python",
   "name": "python3"
  },
  "language_info": {
   "codemirror_mode": {
    "name": "ipython",
    "version": 3
   },
   "file_extension": ".py",
   "mimetype": "text/x-python",
   "name": "python",
   "nbconvert_exporter": "python",
   "pygments_lexer": "ipython3",
   "version": "3.13.3"
  }
 },
 "nbformat": 4,
 "nbformat_minor": 5
}
