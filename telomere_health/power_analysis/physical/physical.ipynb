{
 "cells": [
  {
   "cell_type": "code",
   "execution_count": 1,
   "id": "1226884d",
   "metadata": {},
   "outputs": [],
   "source": [
    "import pingouin as pg\n",
    "import pandas as pd"
   ]
  },
  {
   "cell_type": "markdown",
   "id": "94e325a2",
   "metadata": {},
   "source": [
    "Loading Data"
   ]
  },
  {
   "cell_type": "code",
   "execution_count": 2,
   "id": "085bd66f",
   "metadata": {},
   "outputs": [],
   "source": [
    "physical_data = pd.read_csv(\"physical.csv\")"
   ]
  },
  {
   "cell_type": "code",
   "execution_count": 3,
   "id": "33867c66",
   "metadata": {},
   "outputs": [
    {
     "data": {
      "text/html": [
       "<div>\n",
       "<style scoped>\n",
       "    .dataframe tbody tr th:only-of-type {\n",
       "        vertical-align: middle;\n",
       "    }\n",
       "\n",
       "    .dataframe tbody tr th {\n",
       "        vertical-align: top;\n",
       "    }\n",
       "\n",
       "    .dataframe thead th {\n",
       "        text-align: right;\n",
       "    }\n",
       "</style>\n",
       "<table border=\"1\" class=\"dataframe\">\n",
       "  <thead>\n",
       "    <tr style=\"text-align: right;\">\n",
       "      <th></th>\n",
       "      <th>Sedentary, minimally, lightly active</th>\n",
       "      <th>Moderately active</th>\n",
       "      <th>Highly active</th>\n",
       "    </tr>\n",
       "  </thead>\n",
       "  <tbody>\n",
       "    <tr>\n",
       "      <th>0</th>\n",
       "      <td>13.26</td>\n",
       "      <td>11.34</td>\n",
       "      <td>8.97</td>\n",
       "    </tr>\n",
       "    <tr>\n",
       "      <th>1</th>\n",
       "      <td>30.52</td>\n",
       "      <td>1.81</td>\n",
       "      <td>8.36</td>\n",
       "    </tr>\n",
       "    <tr>\n",
       "      <th>2</th>\n",
       "      <td>10.95</td>\n",
       "      <td>7.51</td>\n",
       "      <td>2.72</td>\n",
       "    </tr>\n",
       "    <tr>\n",
       "      <th>3</th>\n",
       "      <td>20.32</td>\n",
       "      <td>11.25</td>\n",
       "      <td>14.85</td>\n",
       "    </tr>\n",
       "    <tr>\n",
       "      <th>4</th>\n",
       "      <td>17.61</td>\n",
       "      <td>1.63</td>\n",
       "      <td>29.03</td>\n",
       "    </tr>\n",
       "    <tr>\n",
       "      <th>...</th>\n",
       "      <td>...</td>\n",
       "      <td>...</td>\n",
       "      <td>...</td>\n",
       "    </tr>\n",
       "    <tr>\n",
       "      <th>254</th>\n",
       "      <td>NaN</td>\n",
       "      <td>NaN</td>\n",
       "      <td>39.46</td>\n",
       "    </tr>\n",
       "    <tr>\n",
       "      <th>255</th>\n",
       "      <td>NaN</td>\n",
       "      <td>NaN</td>\n",
       "      <td>16.14</td>\n",
       "    </tr>\n",
       "    <tr>\n",
       "      <th>256</th>\n",
       "      <td>NaN</td>\n",
       "      <td>NaN</td>\n",
       "      <td>10.66</td>\n",
       "    </tr>\n",
       "    <tr>\n",
       "      <th>257</th>\n",
       "      <td>NaN</td>\n",
       "      <td>NaN</td>\n",
       "      <td>16.32</td>\n",
       "    </tr>\n",
       "    <tr>\n",
       "      <th>258</th>\n",
       "      <td>NaN</td>\n",
       "      <td>NaN</td>\n",
       "      <td>15.70</td>\n",
       "    </tr>\n",
       "  </tbody>\n",
       "</table>\n",
       "<p>259 rows × 3 columns</p>\n",
       "</div>"
      ],
      "text/plain": [
       "     Sedentary, minimally, lightly active  Moderately active  Highly active\n",
       "0                                   13.26              11.34           8.97\n",
       "1                                   30.52               1.81           8.36\n",
       "2                                   10.95               7.51           2.72\n",
       "3                                   20.32              11.25          14.85\n",
       "4                                   17.61               1.63          29.03\n",
       "..                                    ...                ...            ...\n",
       "254                                   NaN                NaN          39.46\n",
       "255                                   NaN                NaN          16.14\n",
       "256                                   NaN                NaN          10.66\n",
       "257                                   NaN                NaN          16.32\n",
       "258                                   NaN                NaN          15.70\n",
       "\n",
       "[259 rows x 3 columns]"
      ]
     },
     "execution_count": 3,
     "metadata": {},
     "output_type": "execute_result"
    }
   ],
   "source": [
    "physical_data"
   ]
  },
  {
   "cell_type": "markdown",
   "id": "3079f190",
   "metadata": {},
   "source": [
    "Converting Data into Long Format (One Row One Observation)"
   ]
  },
  {
   "cell_type": "code",
   "execution_count": 4,
   "id": "5b75528e",
   "metadata": {},
   "outputs": [],
   "source": [
    "physical_data_cleaned = physical_data.melt(var_name='Physical Activity', value_name='Telomere Length').dropna()"
   ]
  },
  {
   "cell_type": "code",
   "execution_count": 5,
   "id": "49fd83e8",
   "metadata": {},
   "outputs": [
    {
     "data": {
      "text/html": [
       "<div>\n",
       "<style scoped>\n",
       "    .dataframe tbody tr th:only-of-type {\n",
       "        vertical-align: middle;\n",
       "    }\n",
       "\n",
       "    .dataframe tbody tr th {\n",
       "        vertical-align: top;\n",
       "    }\n",
       "\n",
       "    .dataframe thead th {\n",
       "        text-align: right;\n",
       "    }\n",
       "</style>\n",
       "<table border=\"1\" class=\"dataframe\">\n",
       "  <thead>\n",
       "    <tr style=\"text-align: right;\">\n",
       "      <th></th>\n",
       "      <th>Physical Activity</th>\n",
       "      <th>Telomere Length</th>\n",
       "    </tr>\n",
       "  </thead>\n",
       "  <tbody>\n",
       "    <tr>\n",
       "      <th>0</th>\n",
       "      <td>Sedentary, minimally, lightly active</td>\n",
       "      <td>13.26</td>\n",
       "    </tr>\n",
       "    <tr>\n",
       "      <th>1</th>\n",
       "      <td>Sedentary, minimally, lightly active</td>\n",
       "      <td>30.52</td>\n",
       "    </tr>\n",
       "    <tr>\n",
       "      <th>2</th>\n",
       "      <td>Sedentary, minimally, lightly active</td>\n",
       "      <td>10.95</td>\n",
       "    </tr>\n",
       "    <tr>\n",
       "      <th>3</th>\n",
       "      <td>Sedentary, minimally, lightly active</td>\n",
       "      <td>20.32</td>\n",
       "    </tr>\n",
       "    <tr>\n",
       "      <th>4</th>\n",
       "      <td>Sedentary, minimally, lightly active</td>\n",
       "      <td>17.61</td>\n",
       "    </tr>\n",
       "    <tr>\n",
       "      <th>...</th>\n",
       "      <td>...</td>\n",
       "      <td>...</td>\n",
       "    </tr>\n",
       "    <tr>\n",
       "      <th>772</th>\n",
       "      <td>Highly active</td>\n",
       "      <td>39.46</td>\n",
       "    </tr>\n",
       "    <tr>\n",
       "      <th>773</th>\n",
       "      <td>Highly active</td>\n",
       "      <td>16.14</td>\n",
       "    </tr>\n",
       "    <tr>\n",
       "      <th>774</th>\n",
       "      <td>Highly active</td>\n",
       "      <td>10.66</td>\n",
       "    </tr>\n",
       "    <tr>\n",
       "      <th>775</th>\n",
       "      <td>Highly active</td>\n",
       "      <td>16.32</td>\n",
       "    </tr>\n",
       "    <tr>\n",
       "      <th>776</th>\n",
       "      <td>Highly active</td>\n",
       "      <td>15.70</td>\n",
       "    </tr>\n",
       "  </tbody>\n",
       "</table>\n",
       "<p>609 rows × 2 columns</p>\n",
       "</div>"
      ],
      "text/plain": [
       "                        Physical Activity  Telomere Length\n",
       "0    Sedentary, minimally, lightly active            13.26\n",
       "1    Sedentary, minimally, lightly active            30.52\n",
       "2    Sedentary, minimally, lightly active            10.95\n",
       "3    Sedentary, minimally, lightly active            20.32\n",
       "4    Sedentary, minimally, lightly active            17.61\n",
       "..                                    ...              ...\n",
       "772                         Highly active            39.46\n",
       "773                         Highly active            16.14\n",
       "774                         Highly active            10.66\n",
       "775                         Highly active            16.32\n",
       "776                         Highly active            15.70\n",
       "\n",
       "[609 rows x 2 columns]"
      ]
     },
     "execution_count": 5,
     "metadata": {},
     "output_type": "execute_result"
    }
   ],
   "source": [
    "physical_data_cleaned"
   ]
  },
  {
   "cell_type": "markdown",
   "id": "3207128e",
   "metadata": {},
   "source": [
    "Descriptive Statistics"
   ]
  },
  {
   "cell_type": "code",
   "execution_count": 6,
   "id": "e3b188af",
   "metadata": {},
   "outputs": [
    {
     "data": {
      "text/html": [
       "<div>\n",
       "<style scoped>\n",
       "    .dataframe tbody tr th:only-of-type {\n",
       "        vertical-align: middle;\n",
       "    }\n",
       "\n",
       "    .dataframe tbody tr th {\n",
       "        vertical-align: top;\n",
       "    }\n",
       "\n",
       "    .dataframe thead th {\n",
       "        text-align: right;\n",
       "    }\n",
       "</style>\n",
       "<table border=\"1\" class=\"dataframe\">\n",
       "  <thead>\n",
       "    <tr style=\"text-align: right;\">\n",
       "      <th></th>\n",
       "      <th>Sedentary, minimally, lightly active</th>\n",
       "      <th>Moderately active</th>\n",
       "      <th>Highly active</th>\n",
       "    </tr>\n",
       "  </thead>\n",
       "  <tbody>\n",
       "    <tr>\n",
       "      <th>count</th>\n",
       "      <td>206.000000</td>\n",
       "      <td>144.000000</td>\n",
       "      <td>259.000000</td>\n",
       "    </tr>\n",
       "    <tr>\n",
       "      <th>mean</th>\n",
       "      <td>12.804709</td>\n",
       "      <td>11.072569</td>\n",
       "      <td>10.096062</td>\n",
       "    </tr>\n",
       "    <tr>\n",
       "      <th>std</th>\n",
       "      <td>8.612388</td>\n",
       "      <td>8.404375</td>\n",
       "      <td>7.644082</td>\n",
       "    </tr>\n",
       "    <tr>\n",
       "      <th>min</th>\n",
       "      <td>0.240000</td>\n",
       "      <td>0.080000</td>\n",
       "      <td>1.060000</td>\n",
       "    </tr>\n",
       "    <tr>\n",
       "      <th>25%</th>\n",
       "      <td>6.772500</td>\n",
       "      <td>5.867500</td>\n",
       "      <td>5.110000</td>\n",
       "    </tr>\n",
       "    <tr>\n",
       "      <th>50%</th>\n",
       "      <td>10.025000</td>\n",
       "      <td>9.090000</td>\n",
       "      <td>7.820000</td>\n",
       "    </tr>\n",
       "    <tr>\n",
       "      <th>75%</th>\n",
       "      <td>17.425000</td>\n",
       "      <td>13.232500</td>\n",
       "      <td>12.570000</td>\n",
       "    </tr>\n",
       "    <tr>\n",
       "      <th>max</th>\n",
       "      <td>41.930000</td>\n",
       "      <td>47.690000</td>\n",
       "      <td>52.920000</td>\n",
       "    </tr>\n",
       "  </tbody>\n",
       "</table>\n",
       "</div>"
      ],
      "text/plain": [
       "       Sedentary, minimally, lightly active  Moderately active  Highly active\n",
       "count                            206.000000         144.000000     259.000000\n",
       "mean                              12.804709          11.072569      10.096062\n",
       "std                                8.612388           8.404375       7.644082\n",
       "min                                0.240000           0.080000       1.060000\n",
       "25%                                6.772500           5.867500       5.110000\n",
       "50%                               10.025000           9.090000       7.820000\n",
       "75%                               17.425000          13.232500      12.570000\n",
       "max                               41.930000          47.690000      52.920000"
      ]
     },
     "execution_count": 6,
     "metadata": {},
     "output_type": "execute_result"
    }
   ],
   "source": [
    "physical_data.describe()"
   ]
  },
  {
   "cell_type": "code",
   "execution_count": 7,
   "id": "427d77e0",
   "metadata": {},
   "outputs": [
    {
     "data": {
      "text/html": [
       "<div>\n",
       "<style scoped>\n",
       "    .dataframe tbody tr th:only-of-type {\n",
       "        vertical-align: middle;\n",
       "    }\n",
       "\n",
       "    .dataframe tbody tr th {\n",
       "        vertical-align: top;\n",
       "    }\n",
       "\n",
       "    .dataframe thead th {\n",
       "        text-align: right;\n",
       "    }\n",
       "</style>\n",
       "<table border=\"1\" class=\"dataframe\">\n",
       "  <thead>\n",
       "    <tr style=\"text-align: right;\">\n",
       "      <th></th>\n",
       "      <th>Telomere Length</th>\n",
       "    </tr>\n",
       "  </thead>\n",
       "  <tbody>\n",
       "    <tr>\n",
       "      <th>count</th>\n",
       "      <td>609.000000</td>\n",
       "    </tr>\n",
       "    <tr>\n",
       "      <th>mean</th>\n",
       "      <td>11.243186</td>\n",
       "    </tr>\n",
       "    <tr>\n",
       "      <th>std</th>\n",
       "      <td>8.234721</td>\n",
       "    </tr>\n",
       "    <tr>\n",
       "      <th>min</th>\n",
       "      <td>0.080000</td>\n",
       "    </tr>\n",
       "    <tr>\n",
       "      <th>25%</th>\n",
       "      <td>5.600000</td>\n",
       "    </tr>\n",
       "    <tr>\n",
       "      <th>50%</th>\n",
       "      <td>8.970000</td>\n",
       "    </tr>\n",
       "    <tr>\n",
       "      <th>75%</th>\n",
       "      <td>13.860000</td>\n",
       "    </tr>\n",
       "    <tr>\n",
       "      <th>max</th>\n",
       "      <td>52.920000</td>\n",
       "    </tr>\n",
       "  </tbody>\n",
       "</table>\n",
       "</div>"
      ],
      "text/plain": [
       "       Telomere Length\n",
       "count       609.000000\n",
       "mean         11.243186\n",
       "std           8.234721\n",
       "min           0.080000\n",
       "25%           5.600000\n",
       "50%           8.970000\n",
       "75%          13.860000\n",
       "max          52.920000"
      ]
     },
     "execution_count": 7,
     "metadata": {},
     "output_type": "execute_result"
    }
   ],
   "source": [
    "physical_data_cleaned.describe()"
   ]
  },
  {
   "cell_type": "markdown",
   "id": "0433e8e7",
   "metadata": {},
   "source": [
    "Kruskal-Wallis (H-Test)"
   ]
  },
  {
   "cell_type": "code",
   "execution_count": 9,
   "id": "a484332b",
   "metadata": {},
   "outputs": [],
   "source": [
    "kw = pg.kruskal(data=physical_data_cleaned, dv=\"Telomere Length\", between=\"Physical Activity\", detailed=True)"
   ]
  },
  {
   "cell_type": "code",
   "execution_count": 10,
   "id": "29583aba",
   "metadata": {},
   "outputs": [
    {
     "data": {
      "text/html": [
       "<div>\n",
       "<style scoped>\n",
       "    .dataframe tbody tr th:only-of-type {\n",
       "        vertical-align: middle;\n",
       "    }\n",
       "\n",
       "    .dataframe tbody tr th {\n",
       "        vertical-align: top;\n",
       "    }\n",
       "\n",
       "    .dataframe thead th {\n",
       "        text-align: right;\n",
       "    }\n",
       "</style>\n",
       "<table border=\"1\" class=\"dataframe\">\n",
       "  <thead>\n",
       "    <tr style=\"text-align: right;\">\n",
       "      <th></th>\n",
       "      <th>Source</th>\n",
       "      <th>ddof1</th>\n",
       "      <th>H</th>\n",
       "      <th>p-unc</th>\n",
       "    </tr>\n",
       "  </thead>\n",
       "  <tbody>\n",
       "    <tr>\n",
       "      <th>Kruskal</th>\n",
       "      <td>Physical Activity</td>\n",
       "      <td>2</td>\n",
       "      <td>14.721032</td>\n",
       "      <td>0.000636</td>\n",
       "    </tr>\n",
       "  </tbody>\n",
       "</table>\n",
       "</div>"
      ],
      "text/plain": [
       "                    Source  ddof1          H     p-unc\n",
       "Kruskal  Physical Activity      2  14.721032  0.000636"
      ]
     },
     "execution_count": 10,
     "metadata": {},
     "output_type": "execute_result"
    }
   ],
   "source": [
    "kw"
   ]
  },
  {
   "cell_type": "markdown",
   "id": "1707ea85",
   "metadata": {},
   "source": [
    "H-Statistic → η² → Cohen's f"
   ]
  },
  {
   "cell_type": "code",
   "execution_count": 12,
   "id": "05496f0b",
   "metadata": {},
   "outputs": [],
   "source": [
    "sample_size = 609\n",
    "groups = 3"
   ]
  },
  {
   "cell_type": "code",
   "execution_count": 13,
   "id": "8cbd8ecd",
   "metadata": {},
   "outputs": [],
   "source": [
    "kw_H = kw['H'].squeeze()\n",
    "kw_n2 = (((kw_H - groups) + 1)/(sample_size-groups))\n",
    "kw_cohens_f = ((kw_n2/(1-kw_n2))**0.5)"
   ]
  },
  {
   "cell_type": "code",
   "execution_count": 16,
   "id": "19315940",
   "metadata": {},
   "outputs": [
    {
     "name": "stdout",
     "output_type": "stream",
     "text": [
      "Sample Size: 609\n",
      "No. groups 3\n",
      "Effect size (η²): 0.02099180174114099\n",
      "Cohen's f of the test is: 0.146\n",
      "Computed Power is: 0.906 (G*Power)\n"
     ]
    }
   ],
   "source": [
    "print(f\"Sample Size: {sample_size}\")\n",
    "print(f\"No. groups {groups}\")\n",
    "print(f\"Effect size (η²): {kw_n2}\")\n",
    "print(f\"Cohen's f of the test is: {kw_cohens_f.round(3)}\")\n",
    "print(f\"Computed Power is: 0.906 (G*Power)\")"
   ]
  }
 ],
 "metadata": {
  "kernelspec": {
   "display_name": "venv",
   "language": "python",
   "name": "python3"
  },
  "language_info": {
   "codemirror_mode": {
    "name": "ipython",
    "version": 3
   },
   "file_extension": ".py",
   "mimetype": "text/x-python",
   "name": "python",
   "nbconvert_exporter": "python",
   "pygments_lexer": "ipython3",
   "version": "3.13.3"
  }
 },
 "nbformat": 4,
 "nbformat_minor": 5
}
