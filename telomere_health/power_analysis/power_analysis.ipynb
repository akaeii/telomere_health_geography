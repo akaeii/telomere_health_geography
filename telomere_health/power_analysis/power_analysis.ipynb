{
 "cells": [
  {
   "cell_type": "code",
   "execution_count": 3,
   "id": "9f33544e",
   "metadata": {},
   "outputs": [],
   "source": [
    "import pandas as pd\n",
    "import pingouin as pg"
   ]
  },
  {
   "cell_type": "code",
   "execution_count": 78,
   "id": "81e5692d",
   "metadata": {},
   "outputs": [],
   "source": [
    "def hypo_test(data_path):\n",
    "    data = pd.read_csv(data_path)\n",
    "    groups = len(data.columns)\n",
    "\n",
    "    data = data.melt(var_name='Group').dropna().reset_index(drop=True)\n",
    "    observations = len(data)\n",
    "\n",
    "    shapiro_wilk_result = pg.normality(data, group='Group', dv='value')\n",
    "    levene_result = pg.homoscedasticity(data, group='Group', dv='value', method='levene')\n",
    "\n",
    "    kruskal_result = pg.kruskal(data, between='Group', dv='value')\n",
    "    kruskal_result['Significance'] = kruskal_result['p-unc'].map(lambda x: True if x < 0.05 else False)\n",
    "\n",
    "    H = kruskal_result['H'].squeeze()\n",
    "    n2 = ((H-groups+1)/(observations-groups))\n",
    "    cohens_f = ((n2/(1-n2))**0.5)\n",
    "    \n",
    "    power_input = f\"No. Observations: {observations}\\nNo. Groups: {groups}\\nCohen's f: {cohens_f:.5f}\"\n",
    "\n",
    "    return data, shapiro_wilk_result, levene_result, kruskal_result, power_input"
   ]
  },
  {
   "cell_type": "markdown",
   "id": "9fbef4ee",
   "metadata": {},
   "source": [
    "<h1 style=\"text-align:center\">Age</h1>"
   ]
  },
  {
   "cell_type": "code",
   "execution_count": 79,
   "id": "f3d410a0",
   "metadata": {},
   "outputs": [],
   "source": [
    "age_data, age_shapiro, age_levene, age_kruskal, age_power_input = hypo_test(\"variable_data/age.csv\")"
   ]
  },
  {
   "cell_type": "code",
   "execution_count": 80,
   "id": "512ff866",
   "metadata": {},
   "outputs": [
    {
     "name": "stdout",
     "output_type": "stream",
     "text": [
      "No. Observations: 615\n",
      "No. Groups: 5\n",
      "Cohen's f: 0.04898\n"
     ]
    }
   ],
   "source": [
    "print(age_power_input)"
   ]
  },
  {
   "cell_type": "markdown",
   "id": "b702e03a",
   "metadata": {},
   "source": [
    "<h1 style=\"text-align:center\">BMI</h1>"
   ]
  },
  {
   "cell_type": "code",
   "execution_count": 81,
   "id": "eb5f17fa",
   "metadata": {},
   "outputs": [],
   "source": [
    "bmi_data, bmi_shapiro, bmi_levene, bmi_kruskal, bmi_power_input = hypo_test(\"variable_data/bmi.csv\")"
   ]
  },
  {
   "cell_type": "code",
   "execution_count": 82,
   "id": "c46738b7",
   "metadata": {},
   "outputs": [
    {
     "name": "stdout",
     "output_type": "stream",
     "text": [
      "No. Observations: 462\n",
      "No. Groups: 4\n",
      "Cohen's f: 0.01104\n"
     ]
    }
   ],
   "source": [
    "print(bmi_power_input)"
   ]
  },
  {
   "cell_type": "markdown",
   "id": "321cbc97",
   "metadata": {},
   "source": [
    "<h1 style=\"text-align:center\">Cancer</h1>"
   ]
  },
  {
   "cell_type": "code",
   "execution_count": 83,
   "id": "27d48c5f",
   "metadata": {},
   "outputs": [],
   "source": [
    "cancer_data, cancer_shapiro, cancer_levene, cancer_kruskal, cancer_power_input = hypo_test(\"variable_data/cancer.csv\")"
   ]
  },
  {
   "cell_type": "code",
   "execution_count": 84,
   "id": "d3f1334f",
   "metadata": {},
   "outputs": [
    {
     "name": "stdout",
     "output_type": "stream",
     "text": [
      "No. Observations: 372\n",
      "No. Groups: 3\n",
      "Cohen's f: 0.27024\n"
     ]
    }
   ],
   "source": [
    "print(cancer_power_input)"
   ]
  },
  {
   "cell_type": "markdown",
   "id": "29c3e602",
   "metadata": {},
   "source": [
    "<h1 style=\"text-align:center\">Physical Activity</h1>"
   ]
  },
  {
   "cell_type": "code",
   "execution_count": 85,
   "id": "9aef9fcc",
   "metadata": {},
   "outputs": [],
   "source": [
    "physical_data, physical_shapiro, physical_levene, physical_kruskal, physical_power_input = hypo_test(\"variable_data/physical.csv\")"
   ]
  },
  {
   "cell_type": "code",
   "execution_count": 86,
   "id": "e812080d",
   "metadata": {},
   "outputs": [
    {
     "name": "stdout",
     "output_type": "stream",
     "text": [
      "No. Observations: 609\n",
      "No. Groups: 3\n",
      "Cohen's f: 0.14643\n"
     ]
    }
   ],
   "source": [
    "print(physical_power_input)"
   ]
  },
  {
   "cell_type": "markdown",
   "id": "f0797847",
   "metadata": {},
   "source": [
    "<h1 style=\"text-align:center\">Blood Pressure</h1>"
   ]
  },
  {
   "cell_type": "code",
   "execution_count": 87,
   "id": "bc101287",
   "metadata": {},
   "outputs": [
    {
     "name": "stderr",
     "output_type": "stream",
     "text": [
      "C:\\Users\\ranjo\\AppData\\Local\\Temp\\ipykernel_8544\\1033668398.py:16: RuntimeWarning: invalid value encountered in scalar power\n",
      "  cohens_f = ((n2/(1-n2))**0.5)\n"
     ]
    }
   ],
   "source": [
    "bp_data, bp_shapiro, bp_levene, bp_kruskal, bp_power_input = hypo_test(\"variable_data/bp.csv\")"
   ]
  },
  {
   "cell_type": "code",
   "execution_count": 89,
   "id": "c86eda50",
   "metadata": {},
   "outputs": [
    {
     "data": {
      "text/html": [
       "<div>\n",
       "<style scoped>\n",
       "    .dataframe tbody tr th:only-of-type {\n",
       "        vertical-align: middle;\n",
       "    }\n",
       "\n",
       "    .dataframe tbody tr th {\n",
       "        vertical-align: top;\n",
       "    }\n",
       "\n",
       "    .dataframe thead th {\n",
       "        text-align: right;\n",
       "    }\n",
       "</style>\n",
       "<table border=\"1\" class=\"dataframe\">\n",
       "  <thead>\n",
       "    <tr style=\"text-align: right;\">\n",
       "      <th></th>\n",
       "      <th>Source</th>\n",
       "      <th>ddof1</th>\n",
       "      <th>H</th>\n",
       "      <th>p-unc</th>\n",
       "      <th>Significance</th>\n",
       "    </tr>\n",
       "  </thead>\n",
       "  <tbody>\n",
       "    <tr>\n",
       "      <th>Kruskal</th>\n",
       "      <td>Group</td>\n",
       "      <td>2</td>\n",
       "      <td>0.007052</td>\n",
       "      <td>0.99648</td>\n",
       "      <td>False</td>\n",
       "    </tr>\n",
       "  </tbody>\n",
       "</table>\n",
       "</div>"
      ],
      "text/plain": [
       "        Source  ddof1         H    p-unc  Significance\n",
       "Kruskal  Group      2  0.007052  0.99648         False"
      ]
     },
     "execution_count": 89,
     "metadata": {},
     "output_type": "execute_result"
    }
   ],
   "source": [
    "bp_kruskal"
   ]
  },
  {
   "cell_type": "code",
   "execution_count": 88,
   "id": "72bdca68",
   "metadata": {},
   "outputs": [
    {
     "name": "stdout",
     "output_type": "stream",
     "text": [
      "No. Observations: 435\n",
      "No. Groups: 3\n",
      "Cohen's f: nan\n"
     ]
    }
   ],
   "source": [
    "print(bp_power_input)"
   ]
  }
 ],
 "metadata": {
  "kernelspec": {
   "display_name": ".venv",
   "language": "python",
   "name": "python3"
  },
  "language_info": {
   "codemirror_mode": {
    "name": "ipython",
    "version": 3
   },
   "file_extension": ".py",
   "mimetype": "text/x-python",
   "name": "python",
   "nbconvert_exporter": "python",
   "pygments_lexer": "ipython3",
   "version": "3.13.2"
  }
 },
 "nbformat": 4,
 "nbformat_minor": 5
}
