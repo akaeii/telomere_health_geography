{
 "cells": [
  {
   "cell_type": "code",
   "execution_count": 2,
   "id": "1226884d",
   "metadata": {},
   "outputs": [],
   "source": [
    "import pingouin as pg\n",
    "import pandas as pd"
   ]
  },
  {
   "cell_type": "markdown",
   "id": "94e325a2",
   "metadata": {},
   "source": [
    "Loading Data"
   ]
  },
  {
   "cell_type": "code",
   "execution_count": 3,
   "id": "085bd66f",
   "metadata": {},
   "outputs": [],
   "source": [
    "bmi_data = pd.read_csv(\"bmi.csv\")"
   ]
  },
  {
   "cell_type": "code",
   "execution_count": 4,
   "id": "33867c66",
   "metadata": {},
   "outputs": [
    {
     "data": {
      "text/html": [
       "<div>\n",
       "<style scoped>\n",
       "    .dataframe tbody tr th:only-of-type {\n",
       "        vertical-align: middle;\n",
       "    }\n",
       "\n",
       "    .dataframe tbody tr th {\n",
       "        vertical-align: top;\n",
       "    }\n",
       "\n",
       "    .dataframe thead th {\n",
       "        text-align: right;\n",
       "    }\n",
       "</style>\n",
       "<table border=\"1\" class=\"dataframe\">\n",
       "  <thead>\n",
       "    <tr style=\"text-align: right;\">\n",
       "      <th></th>\n",
       "      <th>Underweight</th>\n",
       "      <th>Normal weight</th>\n",
       "      <th>Overweight</th>\n",
       "      <th>Obese</th>\n",
       "    </tr>\n",
       "  </thead>\n",
       "  <tbody>\n",
       "    <tr>\n",
       "      <th>0</th>\n",
       "      <td>8.97</td>\n",
       "      <td>14.85</td>\n",
       "      <td>8.36</td>\n",
       "      <td>29.03</td>\n",
       "    </tr>\n",
       "    <tr>\n",
       "      <th>1</th>\n",
       "      <td>18.58</td>\n",
       "      <td>20.55</td>\n",
       "      <td>2.72</td>\n",
       "      <td>5.32</td>\n",
       "    </tr>\n",
       "    <tr>\n",
       "      <th>2</th>\n",
       "      <td>17.18</td>\n",
       "      <td>13.86</td>\n",
       "      <td>11.13</td>\n",
       "      <td>9.58</td>\n",
       "    </tr>\n",
       "    <tr>\n",
       "      <th>3</th>\n",
       "      <td>7.03</td>\n",
       "      <td>12.17</td>\n",
       "      <td>4.26</td>\n",
       "      <td>20.32</td>\n",
       "    </tr>\n",
       "    <tr>\n",
       "      <th>4</th>\n",
       "      <td>1.93</td>\n",
       "      <td>14.84</td>\n",
       "      <td>7.51</td>\n",
       "      <td>12.41</td>\n",
       "    </tr>\n",
       "    <tr>\n",
       "      <th>...</th>\n",
       "      <td>...</td>\n",
       "      <td>...</td>\n",
       "      <td>...</td>\n",
       "      <td>...</td>\n",
       "    </tr>\n",
       "    <tr>\n",
       "      <th>239</th>\n",
       "      <td>NaN</td>\n",
       "      <td>34.37</td>\n",
       "      <td>NaN</td>\n",
       "      <td>NaN</td>\n",
       "    </tr>\n",
       "    <tr>\n",
       "      <th>240</th>\n",
       "      <td>NaN</td>\n",
       "      <td>5.15</td>\n",
       "      <td>NaN</td>\n",
       "      <td>NaN</td>\n",
       "    </tr>\n",
       "    <tr>\n",
       "      <th>241</th>\n",
       "      <td>NaN</td>\n",
       "      <td>9.16</td>\n",
       "      <td>NaN</td>\n",
       "      <td>NaN</td>\n",
       "    </tr>\n",
       "    <tr>\n",
       "      <th>242</th>\n",
       "      <td>NaN</td>\n",
       "      <td>8.93</td>\n",
       "      <td>NaN</td>\n",
       "      <td>NaN</td>\n",
       "    </tr>\n",
       "    <tr>\n",
       "      <th>243</th>\n",
       "      <td>NaN</td>\n",
       "      <td>5.50</td>\n",
       "      <td>NaN</td>\n",
       "      <td>NaN</td>\n",
       "    </tr>\n",
       "  </tbody>\n",
       "</table>\n",
       "<p>244 rows × 4 columns</p>\n",
       "</div>"
      ],
      "text/plain": [
       "     Underweight  Normal weight  Overweight  Obese\n",
       "0           8.97          14.85        8.36  29.03\n",
       "1          18.58          20.55        2.72   5.32\n",
       "2          17.18          13.86       11.13   9.58\n",
       "3           7.03          12.17        4.26  20.32\n",
       "4           1.93          14.84        7.51  12.41\n",
       "..           ...            ...         ...    ...\n",
       "239          NaN          34.37         NaN    NaN\n",
       "240          NaN           5.15         NaN    NaN\n",
       "241          NaN           9.16         NaN    NaN\n",
       "242          NaN           8.93         NaN    NaN\n",
       "243          NaN           5.50         NaN    NaN\n",
       "\n",
       "[244 rows x 4 columns]"
      ]
     },
     "execution_count": 4,
     "metadata": {},
     "output_type": "execute_result"
    }
   ],
   "source": [
    "bmi_data"
   ]
  },
  {
   "cell_type": "markdown",
   "id": "3079f190",
   "metadata": {},
   "source": [
    "Converting Data into Long Format (One Row One Observation)"
   ]
  },
  {
   "cell_type": "code",
   "execution_count": 5,
   "id": "5b75528e",
   "metadata": {},
   "outputs": [],
   "source": [
    "bmi_data_cleaned = bmi_data.melt(var_name='BMI Classification', value_name='Telomere Length').dropna()"
   ]
  },
  {
   "cell_type": "code",
   "execution_count": 6,
   "id": "49fd83e8",
   "metadata": {},
   "outputs": [
    {
     "data": {
      "text/html": [
       "<div>\n",
       "<style scoped>\n",
       "    .dataframe tbody tr th:only-of-type {\n",
       "        vertical-align: middle;\n",
       "    }\n",
       "\n",
       "    .dataframe tbody tr th {\n",
       "        vertical-align: top;\n",
       "    }\n",
       "\n",
       "    .dataframe thead th {\n",
       "        text-align: right;\n",
       "    }\n",
       "</style>\n",
       "<table border=\"1\" class=\"dataframe\">\n",
       "  <thead>\n",
       "    <tr style=\"text-align: right;\">\n",
       "      <th></th>\n",
       "      <th>BMI Classification</th>\n",
       "      <th>Telomere Length</th>\n",
       "    </tr>\n",
       "  </thead>\n",
       "  <tbody>\n",
       "    <tr>\n",
       "      <th>0</th>\n",
       "      <td>Underweight</td>\n",
       "      <td>8.97</td>\n",
       "    </tr>\n",
       "    <tr>\n",
       "      <th>1</th>\n",
       "      <td>Underweight</td>\n",
       "      <td>18.58</td>\n",
       "    </tr>\n",
       "    <tr>\n",
       "      <th>2</th>\n",
       "      <td>Underweight</td>\n",
       "      <td>17.18</td>\n",
       "    </tr>\n",
       "    <tr>\n",
       "      <th>3</th>\n",
       "      <td>Underweight</td>\n",
       "      <td>7.03</td>\n",
       "    </tr>\n",
       "    <tr>\n",
       "      <th>4</th>\n",
       "      <td>Underweight</td>\n",
       "      <td>1.93</td>\n",
       "    </tr>\n",
       "    <tr>\n",
       "      <th>...</th>\n",
       "      <td>...</td>\n",
       "      <td>...</td>\n",
       "    </tr>\n",
       "    <tr>\n",
       "      <th>774</th>\n",
       "      <td>Obese</td>\n",
       "      <td>9.28</td>\n",
       "    </tr>\n",
       "    <tr>\n",
       "      <th>775</th>\n",
       "      <td>Obese</td>\n",
       "      <td>29.95</td>\n",
       "    </tr>\n",
       "    <tr>\n",
       "      <th>776</th>\n",
       "      <td>Obese</td>\n",
       "      <td>9.62</td>\n",
       "    </tr>\n",
       "    <tr>\n",
       "      <th>777</th>\n",
       "      <td>Obese</td>\n",
       "      <td>2.55</td>\n",
       "    </tr>\n",
       "    <tr>\n",
       "      <th>778</th>\n",
       "      <td>Obese</td>\n",
       "      <td>5.58</td>\n",
       "    </tr>\n",
       "  </tbody>\n",
       "</table>\n",
       "<p>462 rows × 2 columns</p>\n",
       "</div>"
      ],
      "text/plain": [
       "    BMI Classification  Telomere Length\n",
       "0          Underweight             8.97\n",
       "1          Underweight            18.58\n",
       "2          Underweight            17.18\n",
       "3          Underweight             7.03\n",
       "4          Underweight             1.93\n",
       "..                 ...              ...\n",
       "774              Obese             9.28\n",
       "775              Obese            29.95\n",
       "776              Obese             9.62\n",
       "777              Obese             2.55\n",
       "778              Obese             5.58\n",
       "\n",
       "[462 rows x 2 columns]"
      ]
     },
     "execution_count": 6,
     "metadata": {},
     "output_type": "execute_result"
    }
   ],
   "source": [
    "bmi_data_cleaned"
   ]
  },
  {
   "cell_type": "markdown",
   "id": "3207128e",
   "metadata": {},
   "source": [
    "Descriptive Statistics"
   ]
  },
  {
   "cell_type": "code",
   "execution_count": 7,
   "id": "e3b188af",
   "metadata": {},
   "outputs": [
    {
     "data": {
      "text/html": [
       "<div>\n",
       "<style scoped>\n",
       "    .dataframe tbody tr th:only-of-type {\n",
       "        vertical-align: middle;\n",
       "    }\n",
       "\n",
       "    .dataframe tbody tr th {\n",
       "        vertical-align: top;\n",
       "    }\n",
       "\n",
       "    .dataframe thead th {\n",
       "        text-align: right;\n",
       "    }\n",
       "</style>\n",
       "<table border=\"1\" class=\"dataframe\">\n",
       "  <thead>\n",
       "    <tr style=\"text-align: right;\">\n",
       "      <th></th>\n",
       "      <th>Underweight</th>\n",
       "      <th>Normal weight</th>\n",
       "      <th>Overweight</th>\n",
       "      <th>Obese</th>\n",
       "    </tr>\n",
       "  </thead>\n",
       "  <tbody>\n",
       "    <tr>\n",
       "      <th>count</th>\n",
       "      <td>49.000000</td>\n",
       "      <td>244.000000</td>\n",
       "      <td>122.000000</td>\n",
       "      <td>47.000000</td>\n",
       "    </tr>\n",
       "    <tr>\n",
       "      <th>mean</th>\n",
       "      <td>9.310408</td>\n",
       "      <td>10.591148</td>\n",
       "      <td>9.264508</td>\n",
       "      <td>11.029149</td>\n",
       "    </tr>\n",
       "    <tr>\n",
       "      <th>std</th>\n",
       "      <td>6.600963</td>\n",
       "      <td>7.592905</td>\n",
       "      <td>6.464227</td>\n",
       "      <td>8.373097</td>\n",
       "    </tr>\n",
       "    <tr>\n",
       "      <th>min</th>\n",
       "      <td>1.380000</td>\n",
       "      <td>0.690000</td>\n",
       "      <td>0.240000</td>\n",
       "      <td>1.460000</td>\n",
       "    </tr>\n",
       "    <tr>\n",
       "      <th>25%</th>\n",
       "      <td>5.210000</td>\n",
       "      <td>5.552500</td>\n",
       "      <td>4.845000</td>\n",
       "      <td>5.860000</td>\n",
       "    </tr>\n",
       "    <tr>\n",
       "      <th>50%</th>\n",
       "      <td>7.730000</td>\n",
       "      <td>8.675000</td>\n",
       "      <td>7.680000</td>\n",
       "      <td>8.810000</td>\n",
       "    </tr>\n",
       "    <tr>\n",
       "      <th>75%</th>\n",
       "      <td>11.820000</td>\n",
       "      <td>13.082500</td>\n",
       "      <td>11.377500</td>\n",
       "      <td>13.015000</td>\n",
       "    </tr>\n",
       "    <tr>\n",
       "      <th>max</th>\n",
       "      <td>35.190000</td>\n",
       "      <td>38.800000</td>\n",
       "      <td>34.000000</td>\n",
       "      <td>38.830000</td>\n",
       "    </tr>\n",
       "  </tbody>\n",
       "</table>\n",
       "</div>"
      ],
      "text/plain": [
       "       Underweight  Normal weight  Overweight      Obese\n",
       "count    49.000000     244.000000  122.000000  47.000000\n",
       "mean      9.310408      10.591148    9.264508  11.029149\n",
       "std       6.600963       7.592905    6.464227   8.373097\n",
       "min       1.380000       0.690000    0.240000   1.460000\n",
       "25%       5.210000       5.552500    4.845000   5.860000\n",
       "50%       7.730000       8.675000    7.680000   8.810000\n",
       "75%      11.820000      13.082500   11.377500  13.015000\n",
       "max      35.190000      38.800000   34.000000  38.830000"
      ]
     },
     "execution_count": 7,
     "metadata": {},
     "output_type": "execute_result"
    }
   ],
   "source": [
    "bmi_data.describe()"
   ]
  },
  {
   "cell_type": "code",
   "execution_count": 8,
   "id": "427d77e0",
   "metadata": {},
   "outputs": [
    {
     "data": {
      "text/html": [
       "<div>\n",
       "<style scoped>\n",
       "    .dataframe tbody tr th:only-of-type {\n",
       "        vertical-align: middle;\n",
       "    }\n",
       "\n",
       "    .dataframe tbody tr th {\n",
       "        vertical-align: top;\n",
       "    }\n",
       "\n",
       "    .dataframe thead th {\n",
       "        text-align: right;\n",
       "    }\n",
       "</style>\n",
       "<table border=\"1\" class=\"dataframe\">\n",
       "  <thead>\n",
       "    <tr style=\"text-align: right;\">\n",
       "      <th></th>\n",
       "      <th>Telomere Length</th>\n",
       "    </tr>\n",
       "  </thead>\n",
       "  <tbody>\n",
       "    <tr>\n",
       "      <th>count</th>\n",
       "      <td>462.000000</td>\n",
       "    </tr>\n",
       "    <tr>\n",
       "      <th>mean</th>\n",
       "      <td>10.149545</td>\n",
       "    </tr>\n",
       "    <tr>\n",
       "      <th>std</th>\n",
       "      <td>7.304372</td>\n",
       "    </tr>\n",
       "    <tr>\n",
       "      <th>min</th>\n",
       "      <td>0.240000</td>\n",
       "    </tr>\n",
       "    <tr>\n",
       "      <th>25%</th>\n",
       "      <td>5.210000</td>\n",
       "    </tr>\n",
       "    <tr>\n",
       "      <th>50%</th>\n",
       "      <td>8.145000</td>\n",
       "    </tr>\n",
       "    <tr>\n",
       "      <th>75%</th>\n",
       "      <td>12.530000</td>\n",
       "    </tr>\n",
       "    <tr>\n",
       "      <th>max</th>\n",
       "      <td>38.830000</td>\n",
       "    </tr>\n",
       "  </tbody>\n",
       "</table>\n",
       "</div>"
      ],
      "text/plain": [
       "       Telomere Length\n",
       "count       462.000000\n",
       "mean         10.149545\n",
       "std           7.304372\n",
       "min           0.240000\n",
       "25%           5.210000\n",
       "50%           8.145000\n",
       "75%          12.530000\n",
       "max          38.830000"
      ]
     },
     "execution_count": 8,
     "metadata": {},
     "output_type": "execute_result"
    }
   ],
   "source": [
    "bmi_data_cleaned.describe()"
   ]
  },
  {
   "cell_type": "markdown",
   "id": "0433e8e7",
   "metadata": {},
   "source": [
    "Kruskal-Wallis (H-Test)"
   ]
  },
  {
   "cell_type": "code",
   "execution_count": 9,
   "id": "a484332b",
   "metadata": {},
   "outputs": [],
   "source": [
    "kw = pg.kruskal(data=bmi_data_cleaned, dv=\"Telomere Length\", between=\"BMI Classification\", detailed=True)"
   ]
  },
  {
   "cell_type": "code",
   "execution_count": 10,
   "id": "29583aba",
   "metadata": {},
   "outputs": [
    {
     "data": {
      "text/html": [
       "<div>\n",
       "<style scoped>\n",
       "    .dataframe tbody tr th:only-of-type {\n",
       "        vertical-align: middle;\n",
       "    }\n",
       "\n",
       "    .dataframe tbody tr th {\n",
       "        vertical-align: top;\n",
       "    }\n",
       "\n",
       "    .dataframe thead th {\n",
       "        text-align: right;\n",
       "    }\n",
       "</style>\n",
       "<table border=\"1\" class=\"dataframe\">\n",
       "  <thead>\n",
       "    <tr style=\"text-align: right;\">\n",
       "      <th></th>\n",
       "      <th>Source</th>\n",
       "      <th>ddof1</th>\n",
       "      <th>H</th>\n",
       "      <th>p-unc</th>\n",
       "    </tr>\n",
       "  </thead>\n",
       "  <tbody>\n",
       "    <tr>\n",
       "      <th>Kruskal</th>\n",
       "      <td>BMI Classification</td>\n",
       "      <td>3</td>\n",
       "      <td>3.055782</td>\n",
       "      <td>0.383104</td>\n",
       "    </tr>\n",
       "  </tbody>\n",
       "</table>\n",
       "</div>"
      ],
      "text/plain": [
       "                     Source  ddof1         H     p-unc\n",
       "Kruskal  BMI Classification      3  3.055782  0.383104"
      ]
     },
     "execution_count": 10,
     "metadata": {},
     "output_type": "execute_result"
    }
   ],
   "source": [
    "kw"
   ]
  },
  {
   "cell_type": "markdown",
   "id": "1707ea85",
   "metadata": {},
   "source": [
    "H-Statistic → η² → Cohen's f"
   ]
  },
  {
   "cell_type": "code",
   "execution_count": 16,
   "id": "8cbd8ecd",
   "metadata": {},
   "outputs": [],
   "source": [
    "kw_H = kw['H'].squeeze()\n",
    "kw_n2 = (((kw_H - 4) + 1)/(462-4))\n",
    "kw_cohens_f = ((kw_n2/(1-kw_n2))**0.5)"
   ]
  },
  {
   "cell_type": "code",
   "execution_count": 25,
   "id": "19315940",
   "metadata": {},
   "outputs": [
    {
     "name": "stdout",
     "output_type": "stream",
     "text": [
      "Effect size (η²): 0.00012179542537092237\n",
      "Cohen's f of the test is: 0.011\n",
      "Computed Power is: 0.05 (sample size is adjusted to 460) (G*Power)\n"
     ]
    }
   ],
   "source": [
    "print(f\"Effect size (η²): {kw_n2}\")\n",
    "print(f\"Cohen's f of the test is: {kw_cohens_f.round(3)}\")\n",
    "print(f\"Computed Power is: 0.05 (sample size is adjusted to 460) (G*Power)\")"
   ]
  }
 ],
 "metadata": {
  "kernelspec": {
   "display_name": "venv",
   "language": "python",
   "name": "python3"
  },
  "language_info": {
   "codemirror_mode": {
    "name": "ipython",
    "version": 3
   },
   "file_extension": ".py",
   "mimetype": "text/x-python",
   "name": "python",
   "nbconvert_exporter": "python",
   "pygments_lexer": "ipython3",
   "version": "3.13.3"
  }
 },
 "nbformat": 4,
 "nbformat_minor": 5
}
