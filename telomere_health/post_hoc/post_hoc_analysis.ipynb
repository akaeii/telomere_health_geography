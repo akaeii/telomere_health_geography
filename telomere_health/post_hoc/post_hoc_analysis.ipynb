{
 "cells": [
  {
   "cell_type": "code",
   "execution_count": 2,
   "id": "db9dd997",
   "metadata": {},
   "outputs": [],
   "source": [
    "import pingouin\n",
    "import pandas as pd"
   ]
  },
  {
   "cell_type": "markdown",
   "id": "d6dcc25c",
   "metadata": {},
   "source": [
    "<h1 style=\"text-align: center\" >Age</h1>"
   ]
  },
  {
   "cell_type": "markdown",
   "id": "0142abb0",
   "metadata": {},
   "source": [
    "<h2>Normality Test</h2>"
   ]
  },
  {
   "cell_type": "code",
   "execution_count": 14,
   "id": "23631414",
   "metadata": {},
   "outputs": [],
   "source": [
    "data = pd.read_csv('variable_data/age.csv')\n",
    "observations = sum(data.count())\n",
    "groups = len(data.columns)\n",
    "\n"
   ]
  },
  {
   "cell_type": "markdown",
   "id": "882397e2",
   "metadata": {},
   "source": [
    "<h2>Homoscedasticity Test</h2>"
   ]
  },
  {
   "cell_type": "code",
   "execution_count": 16,
   "id": "279330c8",
   "metadata": {},
   "outputs": [
    {
     "data": {
      "application/vnd.microsoft.datawrangler.viewer.v0+json": {
       "columns": [
        {
         "name": "index",
         "rawType": "int64",
         "type": "integer"
        },
        {
         "name": "Adolescent",
         "rawType": "float64",
         "type": "float"
        },
        {
         "name": "Young Adult",
         "rawType": "float64",
         "type": "float"
        },
        {
         "name": "Middle-Aged Adult",
         "rawType": "float64",
         "type": "float"
        },
        {
         "name": "Elderly (Young-Old)",
         "rawType": "float64",
         "type": "float"
        },
        {
         "name": "Oldest-Old",
         "rawType": "float64",
         "type": "float"
        }
       ],
       "conversionMethod": "pd.DataFrame",
       "ref": "23789721-af99-4f01-9177-7b12eab48513",
       "rows": [
        [
         "0",
         "7.88",
         "9.11",
         "20.17",
         "13.26",
         "10.98"
        ],
        [
         "1",
         "7.18",
         "10.47",
         "9.13",
         "1.36",
         "9.72"
        ],
        [
         "2",
         "5.21",
         "8.48",
         "7.9",
         "8.41",
         "17.79"
        ],
        [
         "3",
         "4.05",
         "8.58",
         "26.51",
         "9.05",
         "4.62"
        ],
        [
         "4",
         "10.66",
         "1.17",
         "18.59",
         "7.51",
         "13.75"
        ],
        [
         "5",
         "11.34",
         "6.18",
         "5.15",
         "2.09",
         "23.61"
        ],
        [
         "6",
         "8.36",
         "8.41",
         "19.14",
         "9.66",
         "14.06"
        ],
        [
         "7",
         "9.59",
         "6.12",
         "5.16",
         "9.53",
         "16.38"
        ],
        [
         "8",
         "31.9",
         "1.81",
         "39.46",
         "7.48",
         "8.21"
        ],
        [
         "9",
         "17.5",
         "12.77",
         "4.05",
         "10.62",
         "6.61"
        ],
        [
         "10",
         "12.68",
         "8.55",
         "13.5",
         "10.15",
         "28.2"
        ],
        [
         "11",
         "10.86",
         "7.12",
         "29.95",
         "5.16",
         "5.57"
        ],
        [
         "12",
         "1.79",
         "4.51",
         "34.37",
         "6.97",
         "4.17"
        ],
        [
         "13",
         "9.51",
         "3.96",
         "1.17",
         "11.82",
         "16.38"
        ],
        [
         "14",
         "11.16",
         "1.89",
         "26.98",
         "11.72",
         "1.66"
        ],
        [
         "15",
         "19.77",
         "4.34",
         "6.55",
         "16.69",
         "10.15"
        ],
        [
         "16",
         "19.77",
         "19.38",
         "6.72",
         "5.05",
         "4.25"
        ],
        [
         "17",
         "1.36",
         "12.53",
         "7.58",
         "13.72",
         "8.25"
        ],
        [
         "18",
         "6.95",
         "9.16",
         "9.04",
         "33.94",
         "12.41"
        ],
        [
         "19",
         "7.06",
         "22.02",
         "9.62",
         "12.14",
         "16.25"
        ],
        [
         "20",
         null,
         "8.93",
         "16.32",
         "5.93",
         "3.18"
        ],
        [
         "21",
         null,
         "34.27",
         "9.45",
         "11.16",
         "52.92"
        ],
        [
         "22",
         null,
         "10.91",
         "38.8",
         "5.21",
         "8.19"
        ],
        [
         "23",
         null,
         "20.84",
         "14.67",
         "6.32",
         "27.99"
        ],
        [
         "24",
         null,
         "7.25",
         "1.06",
         "1.06",
         "3.38"
        ],
        [
         "25",
         null,
         "7.13",
         "4.51",
         "1.93",
         "1.93"
        ],
        [
         "26",
         null,
         "22.15",
         "6.61",
         "34.27",
         "16.12"
        ],
        [
         "27",
         null,
         "17.61",
         "9.05",
         "8.35",
         null
        ],
        [
         "28",
         null,
         "11.82",
         "3.64",
         "34.0",
         null
        ],
        [
         "29",
         null,
         "10.02",
         "22.49",
         "5.93",
         null
        ],
        [
         "30",
         null,
         "8.15",
         "5.43",
         "5.02",
         null
        ],
        [
         "31",
         null,
         "13.59",
         "13.03",
         "15.92",
         null
        ],
        [
         "32",
         null,
         "4.26",
         "7.84",
         "30.52",
         null
        ],
        [
         "33",
         null,
         "4.44",
         "6.83",
         "1.22",
         null
        ],
        [
         "34",
         null,
         "10.97",
         "13.78",
         "7.38",
         null
        ],
        [
         "35",
         null,
         "11.91",
         "20.17",
         "5.18",
         null
        ],
        [
         "36",
         null,
         "8.09",
         "5.57",
         "7.82",
         null
        ],
        [
         "37",
         null,
         "16.32",
         "16.28",
         "3.23",
         null
        ],
        [
         "38",
         null,
         "9.56",
         "3.9",
         "27.15",
         null
        ],
        [
         "39",
         null,
         "1.46",
         "7.51",
         "34.53",
         null
        ],
        [
         "40",
         null,
         "14.46",
         "13.35",
         "7.12",
         null
        ],
        [
         "41",
         null,
         "2.43",
         "19.93",
         "11.03",
         null
        ],
        [
         "42",
         null,
         "10.86",
         "7.92",
         "21.03",
         null
        ],
        [
         "43",
         null,
         "9.05",
         "6.49",
         "30.83",
         null
        ],
        [
         "44",
         null,
         "8.54",
         "6.16",
         "15.47",
         null
        ],
        [
         "45",
         null,
         "24.08",
         "4.86",
         "20.81",
         null
        ],
        [
         "46",
         null,
         "20.32",
         "15.88",
         "18.83",
         null
        ],
        [
         "47",
         null,
         "4.32",
         "2.86",
         "30.52",
         null
        ],
        [
         "48",
         null,
         "6.78",
         "15.93",
         "4.84",
         null
        ],
        [
         "49",
         null,
         "15.47",
         "17.08",
         "9.98",
         null
        ]
       ],
       "shape": {
        "columns": 5,
        "rows": 297
       }
      },
      "text/html": [
       "<div>\n",
       "<style scoped>\n",
       "    .dataframe tbody tr th:only-of-type {\n",
       "        vertical-align: middle;\n",
       "    }\n",
       "\n",
       "    .dataframe tbody tr th {\n",
       "        vertical-align: top;\n",
       "    }\n",
       "\n",
       "    .dataframe thead th {\n",
       "        text-align: right;\n",
       "    }\n",
       "</style>\n",
       "<table border=\"1\" class=\"dataframe\">\n",
       "  <thead>\n",
       "    <tr style=\"text-align: right;\">\n",
       "      <th></th>\n",
       "      <th>Adolescent</th>\n",
       "      <th>Young Adult</th>\n",
       "      <th>Middle-Aged Adult</th>\n",
       "      <th>Elderly (Young-Old)</th>\n",
       "      <th>Oldest-Old</th>\n",
       "    </tr>\n",
       "  </thead>\n",
       "  <tbody>\n",
       "    <tr>\n",
       "      <th>0</th>\n",
       "      <td>7.88</td>\n",
       "      <td>9.11</td>\n",
       "      <td>20.17</td>\n",
       "      <td>13.26</td>\n",
       "      <td>10.98</td>\n",
       "    </tr>\n",
       "    <tr>\n",
       "      <th>1</th>\n",
       "      <td>7.18</td>\n",
       "      <td>10.47</td>\n",
       "      <td>9.13</td>\n",
       "      <td>1.36</td>\n",
       "      <td>9.72</td>\n",
       "    </tr>\n",
       "    <tr>\n",
       "      <th>2</th>\n",
       "      <td>5.21</td>\n",
       "      <td>8.48</td>\n",
       "      <td>7.90</td>\n",
       "      <td>8.41</td>\n",
       "      <td>17.79</td>\n",
       "    </tr>\n",
       "    <tr>\n",
       "      <th>3</th>\n",
       "      <td>4.05</td>\n",
       "      <td>8.58</td>\n",
       "      <td>26.51</td>\n",
       "      <td>9.05</td>\n",
       "      <td>4.62</td>\n",
       "    </tr>\n",
       "    <tr>\n",
       "      <th>4</th>\n",
       "      <td>10.66</td>\n",
       "      <td>1.17</td>\n",
       "      <td>18.59</td>\n",
       "      <td>7.51</td>\n",
       "      <td>13.75</td>\n",
       "    </tr>\n",
       "    <tr>\n",
       "      <th>...</th>\n",
       "      <td>...</td>\n",
       "      <td>...</td>\n",
       "      <td>...</td>\n",
       "      <td>...</td>\n",
       "      <td>...</td>\n",
       "    </tr>\n",
       "    <tr>\n",
       "      <th>292</th>\n",
       "      <td>NaN</td>\n",
       "      <td>7.03</td>\n",
       "      <td>NaN</td>\n",
       "      <td>NaN</td>\n",
       "      <td>NaN</td>\n",
       "    </tr>\n",
       "    <tr>\n",
       "      <th>293</th>\n",
       "      <td>NaN</td>\n",
       "      <td>5.50</td>\n",
       "      <td>NaN</td>\n",
       "      <td>NaN</td>\n",
       "      <td>NaN</td>\n",
       "    </tr>\n",
       "    <tr>\n",
       "      <th>294</th>\n",
       "      <td>NaN</td>\n",
       "      <td>10.66</td>\n",
       "      <td>NaN</td>\n",
       "      <td>NaN</td>\n",
       "      <td>NaN</td>\n",
       "    </tr>\n",
       "    <tr>\n",
       "      <th>295</th>\n",
       "      <td>NaN</td>\n",
       "      <td>10.01</td>\n",
       "      <td>NaN</td>\n",
       "      <td>NaN</td>\n",
       "      <td>NaN</td>\n",
       "    </tr>\n",
       "    <tr>\n",
       "      <th>296</th>\n",
       "      <td>NaN</td>\n",
       "      <td>16.32</td>\n",
       "      <td>NaN</td>\n",
       "      <td>NaN</td>\n",
       "      <td>NaN</td>\n",
       "    </tr>\n",
       "  </tbody>\n",
       "</table>\n",
       "<p>297 rows × 5 columns</p>\n",
       "</div>"
      ],
      "text/plain": [
       "     Adolescent  Young Adult  Middle-Aged Adult  Elderly (Young-Old)  \\\n",
       "0          7.88         9.11              20.17                13.26   \n",
       "1          7.18        10.47               9.13                 1.36   \n",
       "2          5.21         8.48               7.90                 8.41   \n",
       "3          4.05         8.58              26.51                 9.05   \n",
       "4         10.66         1.17              18.59                 7.51   \n",
       "..          ...          ...                ...                  ...   \n",
       "292         NaN         7.03                NaN                  NaN   \n",
       "293         NaN         5.50                NaN                  NaN   \n",
       "294         NaN        10.66                NaN                  NaN   \n",
       "295         NaN        10.01                NaN                  NaN   \n",
       "296         NaN        16.32                NaN                  NaN   \n",
       "\n",
       "     Oldest-Old  \n",
       "0         10.98  \n",
       "1          9.72  \n",
       "2         17.79  \n",
       "3          4.62  \n",
       "4         13.75  \n",
       "..          ...  \n",
       "292         NaN  \n",
       "293         NaN  \n",
       "294         NaN  \n",
       "295         NaN  \n",
       "296         NaN  \n",
       "\n",
       "[297 rows x 5 columns]"
      ]
     },
     "execution_count": 16,
     "metadata": {},
     "output_type": "execute_result"
    }
   ],
   "source": [
    "data"
   ]
  },
  {
   "cell_type": "code",
   "execution_count": null,
   "id": "61f6fe45",
   "metadata": {},
   "outputs": [],
   "source": []
  }
 ],
 "metadata": {
  "kernelspec": {
   "display_name": ".venv",
   "language": "python",
   "name": "python3"
  },
  "language_info": {
   "codemirror_mode": {
    "name": "ipython",
    "version": 3
   },
   "file_extension": ".py",
   "mimetype": "text/x-python",
   "name": "python",
   "nbconvert_exporter": "python",
   "pygments_lexer": "ipython3",
   "version": "3.13.2"
  }
 },
 "nbformat": 4,
 "nbformat_minor": 5
}
