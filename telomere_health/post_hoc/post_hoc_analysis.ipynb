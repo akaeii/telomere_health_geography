{
 "cells": [
  {
   "cell_type": "code",
   "execution_count": 153,
   "id": "db9dd997",
   "metadata": {},
   "outputs": [],
   "source": [
    "import pingouin as pg\n",
    "import pandas as pd\n",
    "import scikit_posthocs as sp"
   ]
  },
  {
   "cell_type": "markdown",
   "id": "e44932ca",
   "metadata": {},
   "source": [
    "<h1 style=\"text-align: center\" >Analysis Functions</h1>"
   ]
  },
  {
   "cell_type": "code",
   "execution_count": null,
   "id": "b3bda35c",
   "metadata": {},
   "outputs": [],
   "source": [
    "def assumptions_test(data_path):\n",
    "    data = pd.read_csv(data_path)\n",
    "    groups = len(data.columns)\n",
    "\n",
    "    data = data.melt(var_name='Group').dropna().reset_index(drop=True)\n",
    "    observations = len(data)\n",
    "    \n",
    "    shape = (f\"No. Observations: {observations}\\nNo. Groups: {groups}\")\n",
    "\n",
    "    shapiro_wilk_result = pg.normality(data, group='Group', dv='value')\n",
    "    levene_result = pg.homoscedasticity(data, group='Group', dv='value', method='levene')\n",
    "    \n",
    "\n",
    "    return shapiro_wilk_result, levene_result, shape, data"
   ]
  },
  {
   "cell_type": "code",
   "execution_count": 87,
   "id": "7a314327",
   "metadata": {},
   "outputs": [],
   "source": [
    "def group_comparison(data, test):\n",
    "    if test == \"kruskal\":\n",
    "        kruskal_result = pg.kruskal(data, between='Group', dv='value')\n",
    "        kruskal_result['Significance'] = kruskal_result['p-unc'].map(lambda x: True if x < 0.05 else False)\n",
    "        return kruskal_result\n",
    "    "
   ]
  },
  {
   "cell_type": "markdown",
   "id": "e300e554",
   "metadata": {},
   "source": [
    "<h1 style=\"text-align: center\" >Cancer</h1>"
   ]
  },
  {
   "cell_type": "markdown",
   "id": "0fbf1490",
   "metadata": {},
   "source": [
    "<h2>Test Assumptions</h2>"
   ]
  },
  {
   "cell_type": "code",
   "execution_count": 130,
   "id": "1d30fb58",
   "metadata": {},
   "outputs": [],
   "source": [
    "cancer_normality, cancer_homoscedasticity, cancer_shape, cancer_data = assumptions_test(\"variable_data/cancer.csv\")"
   ]
  },
  {
   "cell_type": "markdown",
   "id": "5139773d",
   "metadata": {},
   "source": [
    "<h3>Data Dimensions</h3>"
   ]
  },
  {
   "cell_type": "code",
   "execution_count": 132,
   "id": "7a8807c7",
   "metadata": {},
   "outputs": [
    {
     "name": "stdout",
     "output_type": "stream",
     "text": [
      "No. Observations: 372\n",
      "No. Groups: 3\n"
     ]
    }
   ],
   "source": [
    "print(cancer_shape)"
   ]
  },
  {
   "cell_type": "markdown",
   "id": "0a8c97fb",
   "metadata": {},
   "source": [
    "<h3>Normality Test (Shapiro-Wilk)</h3>"
   ]
  },
  {
   "cell_type": "code",
   "execution_count": 133,
   "id": "034d5adb",
   "metadata": {},
   "outputs": [
    {
     "data": {
      "text/html": [
       "<div>\n",
       "<style scoped>\n",
       "    .dataframe tbody tr th:only-of-type {\n",
       "        vertical-align: middle;\n",
       "    }\n",
       "\n",
       "    .dataframe tbody tr th {\n",
       "        vertical-align: top;\n",
       "    }\n",
       "\n",
       "    .dataframe thead th {\n",
       "        text-align: right;\n",
       "    }\n",
       "</style>\n",
       "<table border=\"1\" class=\"dataframe\">\n",
       "  <thead>\n",
       "    <tr style=\"text-align: right;\">\n",
       "      <th></th>\n",
       "      <th>W</th>\n",
       "      <th>pval</th>\n",
       "      <th>normal</th>\n",
       "    </tr>\n",
       "    <tr>\n",
       "      <th>Group</th>\n",
       "      <th></th>\n",
       "      <th></th>\n",
       "      <th></th>\n",
       "    </tr>\n",
       "  </thead>\n",
       "  <tbody>\n",
       "    <tr>\n",
       "      <th>Clinically healthy</th>\n",
       "      <td>0.870509</td>\n",
       "      <td>2.069097e-14</td>\n",
       "      <td>False</td>\n",
       "    </tr>\n",
       "    <tr>\n",
       "      <th>Single condition: Cancer</th>\n",
       "      <td>0.907791</td>\n",
       "      <td>1.133087e-03</td>\n",
       "      <td>False</td>\n",
       "    </tr>\n",
       "    <tr>\n",
       "      <th>Cancer and at least one other condition</th>\n",
       "      <td>0.851004</td>\n",
       "      <td>1.393117e-05</td>\n",
       "      <td>False</td>\n",
       "    </tr>\n",
       "  </tbody>\n",
       "</table>\n",
       "</div>"
      ],
      "text/plain": [
       "                                                W          pval  normal\n",
       "Group                                                                  \n",
       "Clinically healthy                       0.870509  2.069097e-14   False\n",
       "Single condition: Cancer                 0.907791  1.133087e-03   False\n",
       "Cancer and at least one other condition  0.851004  1.393117e-05   False"
      ]
     },
     "execution_count": 133,
     "metadata": {},
     "output_type": "execute_result"
    }
   ],
   "source": [
    "cancer_normality"
   ]
  },
  {
   "cell_type": "markdown",
   "id": "5cbb6fc9",
   "metadata": {},
   "source": [
    "<h3>Homogeneity of Variances (Levene's)</h3>"
   ]
  },
  {
   "cell_type": "code",
   "execution_count": 134,
   "id": "950c087c",
   "metadata": {},
   "outputs": [
    {
     "data": {
      "text/html": [
       "<div>\n",
       "<style scoped>\n",
       "    .dataframe tbody tr th:only-of-type {\n",
       "        vertical-align: middle;\n",
       "    }\n",
       "\n",
       "    .dataframe tbody tr th {\n",
       "        vertical-align: top;\n",
       "    }\n",
       "\n",
       "    .dataframe thead th {\n",
       "        text-align: right;\n",
       "    }\n",
       "</style>\n",
       "<table border=\"1\" class=\"dataframe\">\n",
       "  <thead>\n",
       "    <tr style=\"text-align: right;\">\n",
       "      <th></th>\n",
       "      <th>W</th>\n",
       "      <th>pval</th>\n",
       "      <th>equal_var</th>\n",
       "    </tr>\n",
       "  </thead>\n",
       "  <tbody>\n",
       "    <tr>\n",
       "      <th>levene</th>\n",
       "      <td>3.790998</td>\n",
       "      <td>0.023457</td>\n",
       "      <td>False</td>\n",
       "    </tr>\n",
       "  </tbody>\n",
       "</table>\n",
       "</div>"
      ],
      "text/plain": [
       "               W      pval  equal_var\n",
       "levene  3.790998  0.023457      False"
      ]
     },
     "execution_count": 134,
     "metadata": {},
     "output_type": "execute_result"
    }
   ],
   "source": [
    "cancer_homoscedasticity"
   ]
  },
  {
   "cell_type": "markdown",
   "id": "07a017cd",
   "metadata": {},
   "source": [
    "<h2>Group Comparison (Kruskal-Walis)</h2>"
   ]
  },
  {
   "cell_type": "code",
   "execution_count": 137,
   "id": "6ed6ae06",
   "metadata": {},
   "outputs": [],
   "source": [
    "cancer_kruskal = group_comparison(cancer_data, test='kruskal')"
   ]
  },
  {
   "cell_type": "code",
   "execution_count": 138,
   "id": "3db7a49c",
   "metadata": {},
   "outputs": [
    {
     "data": {
      "text/html": [
       "<div>\n",
       "<style scoped>\n",
       "    .dataframe tbody tr th:only-of-type {\n",
       "        vertical-align: middle;\n",
       "    }\n",
       "\n",
       "    .dataframe tbody tr th {\n",
       "        vertical-align: top;\n",
       "    }\n",
       "\n",
       "    .dataframe thead th {\n",
       "        text-align: right;\n",
       "    }\n",
       "</style>\n",
       "<table border=\"1\" class=\"dataframe\">\n",
       "  <thead>\n",
       "    <tr style=\"text-align: right;\">\n",
       "      <th></th>\n",
       "      <th>Source</th>\n",
       "      <th>ddof1</th>\n",
       "      <th>H</th>\n",
       "      <th>p-unc</th>\n",
       "      <th>Significance</th>\n",
       "    </tr>\n",
       "  </thead>\n",
       "  <tbody>\n",
       "    <tr>\n",
       "      <th>Kruskal</th>\n",
       "      <td>Group</td>\n",
       "      <td>2</td>\n",
       "      <td>27.113771</td>\n",
       "      <td>0.000001</td>\n",
       "      <td>True</td>\n",
       "    </tr>\n",
       "  </tbody>\n",
       "</table>\n",
       "</div>"
      ],
      "text/plain": [
       "        Source  ddof1          H     p-unc  Significance\n",
       "Kruskal  Group      2  27.113771  0.000001          True"
      ]
     },
     "execution_count": 138,
     "metadata": {},
     "output_type": "execute_result"
    }
   ],
   "source": [
    "cancer_kruskal"
   ]
  },
  {
   "cell_type": "markdown",
   "id": "8f5d40c9",
   "metadata": {},
   "source": [
    "<h2>Post-Hoc Test (Dunn)</h2>"
   ]
  },
  {
   "cell_type": "code",
   "execution_count": 139,
   "id": "eea9ebc5",
   "metadata": {},
   "outputs": [],
   "source": [
    "cancer_dunn_result = sp.posthoc_dunn(cancer_data, group_col=\"Group\", val_col=\"value\", p_adjust='holm')"
   ]
  },
  {
   "cell_type": "code",
   "execution_count": 141,
   "id": "a108cda9",
   "metadata": {},
   "outputs": [
    {
     "data": {
      "text/html": [
       "<div>\n",
       "<style scoped>\n",
       "    .dataframe tbody tr th:only-of-type {\n",
       "        vertical-align: middle;\n",
       "    }\n",
       "\n",
       "    .dataframe tbody tr th {\n",
       "        vertical-align: top;\n",
       "    }\n",
       "\n",
       "    .dataframe thead th {\n",
       "        text-align: right;\n",
       "    }\n",
       "</style>\n",
       "<table border=\"1\" class=\"dataframe\">\n",
       "  <thead>\n",
       "    <tr style=\"text-align: right;\">\n",
       "      <th></th>\n",
       "      <th>Cancer and at least one other condition</th>\n",
       "      <th>Clinically healthy</th>\n",
       "      <th>Single condition: Cancer</th>\n",
       "    </tr>\n",
       "  </thead>\n",
       "  <tbody>\n",
       "    <tr>\n",
       "      <th>Cancer and at least one other condition</th>\n",
       "      <td>1.00000</td>\n",
       "      <td>0.0154261 *</td>\n",
       "      <td>0.08226</td>\n",
       "    </tr>\n",
       "    <tr>\n",
       "      <th>Clinically healthy</th>\n",
       "      <td>0.0154261 *</td>\n",
       "      <td>1.00000</td>\n",
       "      <td>0.0000041 *</td>\n",
       "    </tr>\n",
       "    <tr>\n",
       "      <th>Single condition: Cancer</th>\n",
       "      <td>0.08226</td>\n",
       "      <td>0.0000041 *</td>\n",
       "      <td>1.00000</td>\n",
       "    </tr>\n",
       "  </tbody>\n",
       "</table>\n",
       "</div>"
      ],
      "text/plain": [
       "                                        Cancer and at least one other condition  \\\n",
       "Cancer and at least one other condition                                 1.00000   \n",
       "Clinically healthy                                                  0.0154261 *   \n",
       "Single condition: Cancer                                                0.08226   \n",
       "\n",
       "                                        Clinically healthy  \\\n",
       "Cancer and at least one other condition        0.0154261 *   \n",
       "Clinically healthy                                 1.00000   \n",
       "Single condition: Cancer                       0.0000041 *   \n",
       "\n",
       "                                        Single condition: Cancer  \n",
       "Cancer and at least one other condition                  0.08226  \n",
       "Clinically healthy                                   0.0000041 *  \n",
       "Single condition: Cancer                                 1.00000  "
      ]
     },
     "execution_count": 141,
     "metadata": {},
     "output_type": "execute_result"
    }
   ],
   "source": [
    "cancer_dunn_result.map(lambda x: f\"{x:.7f} *\" if x < 0.05 else f\"{x:.5f}\")"
   ]
  },
  {
   "cell_type": "markdown",
   "id": "85f3ad5f",
   "metadata": {},
   "source": [
    "<h1 style=\"text-align: center\" >Cardiovascular Disease</h1>"
   ]
  },
  {
   "cell_type": "markdown",
   "id": "13c42081",
   "metadata": {},
   "source": [
    "<h2>Test Assumptions</h2>"
   ]
  },
  {
   "cell_type": "code",
   "execution_count": 144,
   "id": "a09ac224",
   "metadata": {},
   "outputs": [],
   "source": [
    "cvd_normality, cvd_homoscedasticity, cvd_shape, cvd_data = assumptions_test(\"variable_data/cvd.csv\")"
   ]
  },
  {
   "cell_type": "markdown",
   "id": "f1d5d34a",
   "metadata": {},
   "source": [
    "<h3>Data Dimensions</h3>"
   ]
  },
  {
   "cell_type": "code",
   "execution_count": 145,
   "id": "28b614fb",
   "metadata": {},
   "outputs": [
    {
     "name": "stdout",
     "output_type": "stream",
     "text": [
      "No. Observations: 615\n",
      "No. Groups: 4\n"
     ]
    }
   ],
   "source": [
    "print(cvd_shape)"
   ]
  },
  {
   "cell_type": "markdown",
   "id": "2ccadde5",
   "metadata": {},
   "source": [
    "<h3>Normality Test (Shapiro-Wilk)</h3>"
   ]
  },
  {
   "cell_type": "code",
   "execution_count": 147,
   "id": "b11676d6",
   "metadata": {},
   "outputs": [
    {
     "data": {
      "text/html": [
       "<div>\n",
       "<style scoped>\n",
       "    .dataframe tbody tr th:only-of-type {\n",
       "        vertical-align: middle;\n",
       "    }\n",
       "\n",
       "    .dataframe tbody tr th {\n",
       "        vertical-align: top;\n",
       "    }\n",
       "\n",
       "    .dataframe thead th {\n",
       "        text-align: right;\n",
       "    }\n",
       "</style>\n",
       "<table border=\"1\" class=\"dataframe\">\n",
       "  <thead>\n",
       "    <tr style=\"text-align: right;\">\n",
       "      <th></th>\n",
       "      <th>W</th>\n",
       "      <th>pval</th>\n",
       "      <th>normal</th>\n",
       "    </tr>\n",
       "    <tr>\n",
       "      <th>Group</th>\n",
       "      <th></th>\n",
       "      <th></th>\n",
       "      <th></th>\n",
       "    </tr>\n",
       "  </thead>\n",
       "  <tbody>\n",
       "    <tr>\n",
       "      <th>Single condition (CVD)</th>\n",
       "      <td>0.847208</td>\n",
       "      <td>5.048727e-09</td>\n",
       "      <td>False</td>\n",
       "    </tr>\n",
       "    <tr>\n",
       "      <th>CVD and at least one other condition</th>\n",
       "      <td>0.861485</td>\n",
       "      <td>3.227682e-06</td>\n",
       "      <td>False</td>\n",
       "    </tr>\n",
       "    <tr>\n",
       "      <th>Non-cardiovascular comorbidities</th>\n",
       "      <td>0.862405</td>\n",
       "      <td>2.046331e-11</td>\n",
       "      <td>False</td>\n",
       "    </tr>\n",
       "    <tr>\n",
       "      <th>No known comorbidities</th>\n",
       "      <td>0.870509</td>\n",
       "      <td>2.069097e-14</td>\n",
       "      <td>False</td>\n",
       "    </tr>\n",
       "  </tbody>\n",
       "</table>\n",
       "</div>"
      ],
      "text/plain": [
       "                                             W          pval  normal\n",
       "Group                                                               \n",
       "Single condition (CVD)                0.847208  5.048727e-09   False\n",
       "CVD and at least one other condition  0.861485  3.227682e-06   False\n",
       "Non-cardiovascular comorbidities      0.862405  2.046331e-11   False\n",
       "No known comorbidities                0.870509  2.069097e-14   False"
      ]
     },
     "execution_count": 147,
     "metadata": {},
     "output_type": "execute_result"
    }
   ],
   "source": [
    "cvd_normality"
   ]
  },
  {
   "cell_type": "markdown",
   "id": "0027538c",
   "metadata": {},
   "source": [
    "<h3>Homogeneity of Variances (Levene's)</h3>"
   ]
  },
  {
   "cell_type": "code",
   "execution_count": 148,
   "id": "2dba946e",
   "metadata": {},
   "outputs": [
    {
     "data": {
      "text/html": [
       "<div>\n",
       "<style scoped>\n",
       "    .dataframe tbody tr th:only-of-type {\n",
       "        vertical-align: middle;\n",
       "    }\n",
       "\n",
       "    .dataframe tbody tr th {\n",
       "        vertical-align: top;\n",
       "    }\n",
       "\n",
       "    .dataframe thead th {\n",
       "        text-align: right;\n",
       "    }\n",
       "</style>\n",
       "<table border=\"1\" class=\"dataframe\">\n",
       "  <thead>\n",
       "    <tr style=\"text-align: right;\">\n",
       "      <th></th>\n",
       "      <th>W</th>\n",
       "      <th>pval</th>\n",
       "      <th>equal_var</th>\n",
       "    </tr>\n",
       "  </thead>\n",
       "  <tbody>\n",
       "    <tr>\n",
       "      <th>levene</th>\n",
       "      <td>2.079986</td>\n",
       "      <td>0.101678</td>\n",
       "      <td>True</td>\n",
       "    </tr>\n",
       "  </tbody>\n",
       "</table>\n",
       "</div>"
      ],
      "text/plain": [
       "               W      pval  equal_var\n",
       "levene  2.079986  0.101678       True"
      ]
     },
     "execution_count": 148,
     "metadata": {},
     "output_type": "execute_result"
    }
   ],
   "source": [
    "cvd_homoscedasticity"
   ]
  },
  {
   "cell_type": "markdown",
   "id": "3130b154",
   "metadata": {},
   "source": [
    "<h2>Group Comparison (Kruskal-Walis)</h2>"
   ]
  },
  {
   "cell_type": "code",
   "execution_count": 149,
   "id": "1d9f4633",
   "metadata": {},
   "outputs": [],
   "source": [
    "cvd_kruskal = group_comparison(cvd_data, test='kruskal')"
   ]
  },
  {
   "cell_type": "code",
   "execution_count": 150,
   "id": "f8599d2c",
   "metadata": {},
   "outputs": [
    {
     "data": {
      "text/html": [
       "<div>\n",
       "<style scoped>\n",
       "    .dataframe tbody tr th:only-of-type {\n",
       "        vertical-align: middle;\n",
       "    }\n",
       "\n",
       "    .dataframe tbody tr th {\n",
       "        vertical-align: top;\n",
       "    }\n",
       "\n",
       "    .dataframe thead th {\n",
       "        text-align: right;\n",
       "    }\n",
       "</style>\n",
       "<table border=\"1\" class=\"dataframe\">\n",
       "  <thead>\n",
       "    <tr style=\"text-align: right;\">\n",
       "      <th></th>\n",
       "      <th>Source</th>\n",
       "      <th>ddof1</th>\n",
       "      <th>H</th>\n",
       "      <th>p-unc</th>\n",
       "      <th>Significance</th>\n",
       "    </tr>\n",
       "  </thead>\n",
       "  <tbody>\n",
       "    <tr>\n",
       "      <th>Kruskal</th>\n",
       "      <td>Group</td>\n",
       "      <td>3</td>\n",
       "      <td>11.913735</td>\n",
       "      <td>0.007685</td>\n",
       "      <td>True</td>\n",
       "    </tr>\n",
       "  </tbody>\n",
       "</table>\n",
       "</div>"
      ],
      "text/plain": [
       "        Source  ddof1          H     p-unc  Significance\n",
       "Kruskal  Group      3  11.913735  0.007685          True"
      ]
     },
     "execution_count": 150,
     "metadata": {},
     "output_type": "execute_result"
    }
   ],
   "source": [
    "cvd_kruskal"
   ]
  },
  {
   "cell_type": "markdown",
   "id": "eb6288b2",
   "metadata": {},
   "source": [
    "<h2>Post-Hoc Test (Dunn)</h2>"
   ]
  },
  {
   "cell_type": "code",
   "execution_count": 151,
   "id": "3d79d814",
   "metadata": {},
   "outputs": [],
   "source": [
    "cvd_dunn_result = sp.posthoc_dunn(cvd_data, group_col=\"Group\", val_col=\"value\", p_adjust='holm')"
   ]
  },
  {
   "cell_type": "code",
   "execution_count": 152,
   "id": "2364f9cf",
   "metadata": {},
   "outputs": [
    {
     "data": {
      "text/html": [
       "<div>\n",
       "<style scoped>\n",
       "    .dataframe tbody tr th:only-of-type {\n",
       "        vertical-align: middle;\n",
       "    }\n",
       "\n",
       "    .dataframe tbody tr th {\n",
       "        vertical-align: top;\n",
       "    }\n",
       "\n",
       "    .dataframe thead th {\n",
       "        text-align: right;\n",
       "    }\n",
       "</style>\n",
       "<table border=\"1\" class=\"dataframe\">\n",
       "  <thead>\n",
       "    <tr style=\"text-align: right;\">\n",
       "      <th></th>\n",
       "      <th>CVD and at least one other condition</th>\n",
       "      <th>No known comorbidities</th>\n",
       "      <th>Non-cardiovascular comorbidities</th>\n",
       "      <th>Single condition (CVD)</th>\n",
       "    </tr>\n",
       "  </thead>\n",
       "  <tbody>\n",
       "    <tr>\n",
       "      <th>CVD and at least one other condition</th>\n",
       "      <td>1.00000</td>\n",
       "      <td>0.14082</td>\n",
       "      <td>0.46803</td>\n",
       "      <td>0.0292309 *</td>\n",
       "    </tr>\n",
       "    <tr>\n",
       "      <th>No known comorbidities</th>\n",
       "      <td>0.14082</td>\n",
       "      <td>1.00000</td>\n",
       "      <td>0.17217</td>\n",
       "      <td>0.36159</td>\n",
       "    </tr>\n",
       "    <tr>\n",
       "      <th>Non-cardiovascular comorbidities</th>\n",
       "      <td>0.46803</td>\n",
       "      <td>0.17217</td>\n",
       "      <td>1.00000</td>\n",
       "      <td>0.0312200 *</td>\n",
       "    </tr>\n",
       "    <tr>\n",
       "      <th>Single condition (CVD)</th>\n",
       "      <td>0.0292309 *</td>\n",
       "      <td>0.36159</td>\n",
       "      <td>0.0312200 *</td>\n",
       "      <td>1.00000</td>\n",
       "    </tr>\n",
       "  </tbody>\n",
       "</table>\n",
       "</div>"
      ],
      "text/plain": [
       "                                     CVD and at least one other condition  \\\n",
       "CVD and at least one other condition                              1.00000   \n",
       "No known comorbidities                                            0.14082   \n",
       "Non-cardiovascular comorbidities                                  0.46803   \n",
       "Single condition (CVD)                                        0.0292309 *   \n",
       "\n",
       "                                     No known comorbidities  \\\n",
       "CVD and at least one other condition                0.14082   \n",
       "No known comorbidities                              1.00000   \n",
       "Non-cardiovascular comorbidities                    0.17217   \n",
       "Single condition (CVD)                              0.36159   \n",
       "\n",
       "                                     Non-cardiovascular comorbidities  \\\n",
       "CVD and at least one other condition                          0.46803   \n",
       "No known comorbidities                                        0.17217   \n",
       "Non-cardiovascular comorbidities                              1.00000   \n",
       "Single condition (CVD)                                    0.0312200 *   \n",
       "\n",
       "                                     Single condition (CVD)  \n",
       "CVD and at least one other condition            0.0292309 *  \n",
       "No known comorbidities                              0.36159  \n",
       "Non-cardiovascular comorbidities                0.0312200 *  \n",
       "Single condition (CVD)                              1.00000  "
      ]
     },
     "execution_count": 152,
     "metadata": {},
     "output_type": "execute_result"
    }
   ],
   "source": [
    "cvd_dunn_result.map(lambda x: f\"{x:.7f} *\" if x < 0.05 else f\"{x:.5f}\")"
   ]
  },
  {
   "cell_type": "markdown",
   "id": "a6175940",
   "metadata": {},
   "source": [
    "<h1 style=\"text-align: center\" >Physical Activity</h1>"
   ]
  },
  {
   "cell_type": "markdown",
   "id": "5e8aad19",
   "metadata": {},
   "source": [
    "<h2>Test Assumptions</h2>"
   ]
  },
  {
   "cell_type": "code",
   "execution_count": null,
   "id": "8709e177",
   "metadata": {},
   "outputs": [],
   "source": [
    "physical_normality, physical_homoscedasticity, physical_shape, physical_data = assumptions_test(\"variable_data/physical.csv\")"
   ]
  },
  {
   "cell_type": "markdown",
   "id": "693032fd",
   "metadata": {},
   "source": [
    "<h3>Data Dimensions</h3>"
   ]
  },
  {
   "cell_type": "code",
   "execution_count": null,
   "id": "1a451e64",
   "metadata": {},
   "outputs": [
    {
     "name": "stdout",
     "output_type": "stream",
     "text": [
      "No. Observations: 609\n",
      "No. Groups: 3\n"
     ]
    }
   ],
   "source": [
    "print(physical_shape)"
   ]
  },
  {
   "cell_type": "markdown",
   "id": "2f0e332a",
   "metadata": {},
   "source": [
    "<h3>Normality Test (Shapiro-Wilk)</h3>"
   ]
  },
  {
   "cell_type": "code",
   "execution_count": null,
   "id": "627f4351",
   "metadata": {},
   "outputs": [
    {
     "data": {
      "text/html": [
       "<div>\n",
       "<style scoped>\n",
       "    .dataframe tbody tr th:only-of-type {\n",
       "        vertical-align: middle;\n",
       "    }\n",
       "\n",
       "    .dataframe tbody tr th {\n",
       "        vertical-align: top;\n",
       "    }\n",
       "\n",
       "    .dataframe thead th {\n",
       "        text-align: right;\n",
       "    }\n",
       "</style>\n",
       "<table border=\"1\" class=\"dataframe\">\n",
       "  <thead>\n",
       "    <tr style=\"text-align: right;\">\n",
       "      <th></th>\n",
       "      <th>W</th>\n",
       "      <th>pval</th>\n",
       "      <th>normal</th>\n",
       "    </tr>\n",
       "    <tr>\n",
       "      <th>Group</th>\n",
       "      <th></th>\n",
       "      <th></th>\n",
       "      <th></th>\n",
       "    </tr>\n",
       "  </thead>\n",
       "  <tbody>\n",
       "    <tr>\n",
       "      <th>Sedentary, Minimally, Lightly active</th>\n",
       "      <td>0.906515</td>\n",
       "      <td>4.347425e-10</td>\n",
       "      <td>False</td>\n",
       "    </tr>\n",
       "    <tr>\n",
       "      <th>Moderately active</th>\n",
       "      <td>0.835726</td>\n",
       "      <td>2.120031e-11</td>\n",
       "      <td>False</td>\n",
       "    </tr>\n",
       "    <tr>\n",
       "      <th>Highly active</th>\n",
       "      <td>0.824080</td>\n",
       "      <td>1.926432e-16</td>\n",
       "      <td>False</td>\n",
       "    </tr>\n",
       "  </tbody>\n",
       "</table>\n",
       "</div>"
      ],
      "text/plain": [
       "                                             W          pval  normal\n",
       "Group                                                               \n",
       "Sedentary, Minimally, Lightly active  0.906515  4.347425e-10   False\n",
       "Moderately active                     0.835726  2.120031e-11   False\n",
       "Highly active                         0.824080  1.926432e-16   False"
      ]
     },
     "metadata": {},
     "output_type": "display_data"
    }
   ],
   "source": [
    "physical_normality"
   ]
  },
  {
   "cell_type": "markdown",
   "id": "2c3612c9",
   "metadata": {},
   "source": [
    "<h3>Homogeneity of Variances (Levene's)</h3>"
   ]
  },
  {
   "cell_type": "code",
   "execution_count": null,
   "id": "ca8194ba",
   "metadata": {},
   "outputs": [
    {
     "data": {
      "text/html": [
       "<div>\n",
       "<style scoped>\n",
       "    .dataframe tbody tr th:only-of-type {\n",
       "        vertical-align: middle;\n",
       "    }\n",
       "\n",
       "    .dataframe tbody tr th {\n",
       "        vertical-align: top;\n",
       "    }\n",
       "\n",
       "    .dataframe thead th {\n",
       "        text-align: right;\n",
       "    }\n",
       "</style>\n",
       "<table border=\"1\" class=\"dataframe\">\n",
       "  <thead>\n",
       "    <tr style=\"text-align: right;\">\n",
       "      <th></th>\n",
       "      <th>W</th>\n",
       "      <th>pval</th>\n",
       "      <th>equal_var</th>\n",
       "    </tr>\n",
       "  </thead>\n",
       "  <tbody>\n",
       "    <tr>\n",
       "      <th>levene</th>\n",
       "      <td>2.548281</td>\n",
       "      <td>0.079054</td>\n",
       "      <td>True</td>\n",
       "    </tr>\n",
       "  </tbody>\n",
       "</table>\n",
       "</div>"
      ],
      "text/plain": [
       "               W      pval  equal_var\n",
       "levene  2.548281  0.079054       True"
      ]
     },
     "metadata": {},
     "output_type": "display_data"
    }
   ],
   "source": [
    "physical_homoscedasticity"
   ]
  },
  {
   "cell_type": "markdown",
   "id": "65fd75a0",
   "metadata": {},
   "source": [
    "<h2>Group Comparison (Kruskal-Walis)</h2>"
   ]
  },
  {
   "cell_type": "code",
   "execution_count": null,
   "id": "fc157d57",
   "metadata": {},
   "outputs": [],
   "source": [
    "physical_kruskal = group_comparison(physical_data, test=\"kruskal\")"
   ]
  },
  {
   "cell_type": "code",
   "execution_count": null,
   "id": "a7ecd08b",
   "metadata": {},
   "outputs": [
    {
     "data": {
      "text/html": [
       "<div>\n",
       "<style scoped>\n",
       "    .dataframe tbody tr th:only-of-type {\n",
       "        vertical-align: middle;\n",
       "    }\n",
       "\n",
       "    .dataframe tbody tr th {\n",
       "        vertical-align: top;\n",
       "    }\n",
       "\n",
       "    .dataframe thead th {\n",
       "        text-align: right;\n",
       "    }\n",
       "</style>\n",
       "<table border=\"1\" class=\"dataframe\">\n",
       "  <thead>\n",
       "    <tr style=\"text-align: right;\">\n",
       "      <th></th>\n",
       "      <th>Source</th>\n",
       "      <th>ddof1</th>\n",
       "      <th>H</th>\n",
       "      <th>p-unc</th>\n",
       "      <th>Significance</th>\n",
       "    </tr>\n",
       "  </thead>\n",
       "  <tbody>\n",
       "    <tr>\n",
       "      <th>Kruskal</th>\n",
       "      <td>Group</td>\n",
       "      <td>2</td>\n",
       "      <td>14.721032</td>\n",
       "      <td>0.000636</td>\n",
       "      <td>True</td>\n",
       "    </tr>\n",
       "  </tbody>\n",
       "</table>\n",
       "</div>"
      ],
      "text/plain": [
       "        Source  ddof1          H     p-unc  Significance\n",
       "Kruskal  Group      2  14.721032  0.000636          True"
      ]
     },
     "metadata": {},
     "output_type": "display_data"
    }
   ],
   "source": [
    "physical_kruskal"
   ]
  },
  {
   "cell_type": "markdown",
   "id": "4c59b103",
   "metadata": {},
   "source": [
    "<h2>Post-Hoc Test (Dunn)</h2>"
   ]
  },
  {
   "cell_type": "code",
   "execution_count": 142,
   "id": "025577ba",
   "metadata": {},
   "outputs": [],
   "source": [
    "physical_dunn_result = sp.posthoc_dunn(physical_data, group_col=\"Group\", val_col=\"value\", p_adjust='holm')"
   ]
  },
  {
   "cell_type": "code",
   "execution_count": 143,
   "id": "026ee3c2",
   "metadata": {},
   "outputs": [
    {
     "data": {
      "text/html": [
       "<div>\n",
       "<style scoped>\n",
       "    .dataframe tbody tr th:only-of-type {\n",
       "        vertical-align: middle;\n",
       "    }\n",
       "\n",
       "    .dataframe tbody tr th {\n",
       "        vertical-align: top;\n",
       "    }\n",
       "\n",
       "    .dataframe thead th {\n",
       "        text-align: right;\n",
       "    }\n",
       "</style>\n",
       "<table border=\"1\" class=\"dataframe\">\n",
       "  <thead>\n",
       "    <tr style=\"text-align: right;\">\n",
       "      <th></th>\n",
       "      <th>Highly active</th>\n",
       "      <th>Moderately active</th>\n",
       "      <th>Sedentary, Minimally, Lightly active</th>\n",
       "    </tr>\n",
       "  </thead>\n",
       "  <tbody>\n",
       "    <tr>\n",
       "      <th>Highly active</th>\n",
       "      <td>1.00000</td>\n",
       "      <td>0.18920</td>\n",
       "      <td>0.00038 *</td>\n",
       "    </tr>\n",
       "    <tr>\n",
       "      <th>Moderately active</th>\n",
       "      <td>0.18920</td>\n",
       "      <td>1.00000</td>\n",
       "      <td>0.08366</td>\n",
       "    </tr>\n",
       "    <tr>\n",
       "      <th>Sedentary, Minimally, Lightly active</th>\n",
       "      <td>0.00038 *</td>\n",
       "      <td>0.08366</td>\n",
       "      <td>1.00000</td>\n",
       "    </tr>\n",
       "  </tbody>\n",
       "</table>\n",
       "</div>"
      ],
      "text/plain": [
       "                                     Highly active Moderately active  \\\n",
       "Highly active                              1.00000           0.18920   \n",
       "Moderately active                          0.18920           1.00000   \n",
       "Sedentary, Minimally, Lightly active     0.00038 *           0.08366   \n",
       "\n",
       "                                     Sedentary, Minimally, Lightly active  \n",
       "Highly active                                                   0.00038 *  \n",
       "Moderately active                                                 0.08366  \n",
       "Sedentary, Minimally, Lightly active                              1.00000  "
      ]
     },
     "execution_count": 143,
     "metadata": {},
     "output_type": "execute_result"
    }
   ],
   "source": [
    "physical_dunn_result.map(lambda x: f\"{x:.5f} *\" if x < 0.05 else f\"{x:.5f}\")"
   ]
  },
  {
   "cell_type": "markdown",
   "id": "d6dcc25c",
   "metadata": {},
   "source": [
    "<h1 style=\"text-align: center\" >Age</h1>"
   ]
  },
  {
   "cell_type": "markdown",
   "id": "0142abb0",
   "metadata": {},
   "source": [
    "<h2>Test Assumptions</h2>"
   ]
  },
  {
   "cell_type": "code",
   "execution_count": 88,
   "id": "a870fe02",
   "metadata": {},
   "outputs": [],
   "source": [
    "age_normality, age_homoscedasticity, age_shape, age_data = assumptions_test(\"variable_data/age.csv\")"
   ]
  },
  {
   "cell_type": "markdown",
   "id": "965c49a2",
   "metadata": {},
   "source": [
    "<h3>Data Dimensions</h3>"
   ]
  },
  {
   "cell_type": "code",
   "execution_count": 89,
   "id": "ef6fb8cc",
   "metadata": {},
   "outputs": [
    {
     "name": "stdout",
     "output_type": "stream",
     "text": [
      "No. Observations: 615\n",
      "No. Groups: 5\n"
     ]
    }
   ],
   "source": [
    "print(age_shape)"
   ]
  },
  {
   "cell_type": "markdown",
   "id": "a87acb1d",
   "metadata": {},
   "source": [
    "<h3>Normality Test (Shapiro-Wilk)</h3>"
   ]
  },
  {
   "cell_type": "code",
   "execution_count": 90,
   "id": "90bf8ce2",
   "metadata": {},
   "outputs": [
    {
     "data": {
      "text/html": [
       "<div>\n",
       "<style scoped>\n",
       "    .dataframe tbody tr th:only-of-type {\n",
       "        vertical-align: middle;\n",
       "    }\n",
       "\n",
       "    .dataframe tbody tr th {\n",
       "        vertical-align: top;\n",
       "    }\n",
       "\n",
       "    .dataframe thead th {\n",
       "        text-align: right;\n",
       "    }\n",
       "</style>\n",
       "<table border=\"1\" class=\"dataframe\">\n",
       "  <thead>\n",
       "    <tr style=\"text-align: right;\">\n",
       "      <th></th>\n",
       "      <th>W</th>\n",
       "      <th>pval</th>\n",
       "      <th>normal</th>\n",
       "    </tr>\n",
       "    <tr>\n",
       "      <th>Group</th>\n",
       "      <th></th>\n",
       "      <th></th>\n",
       "      <th></th>\n",
       "    </tr>\n",
       "  </thead>\n",
       "  <tbody>\n",
       "    <tr>\n",
       "      <th>Adolescent</th>\n",
       "      <td>0.879088</td>\n",
       "      <td>1.703723e-02</td>\n",
       "      <td>False</td>\n",
       "    </tr>\n",
       "    <tr>\n",
       "      <th>Young Adult</th>\n",
       "      <td>0.855330</td>\n",
       "      <td>5.184404e-16</td>\n",
       "      <td>False</td>\n",
       "    </tr>\n",
       "    <tr>\n",
       "      <th>Middle-Aged Adult</th>\n",
       "      <td>0.880857</td>\n",
       "      <td>2.844875e-08</td>\n",
       "      <td>False</td>\n",
       "    </tr>\n",
       "    <tr>\n",
       "      <th>Elderly (Young-Old)</th>\n",
       "      <td>0.868207</td>\n",
       "      <td>2.269129e-10</td>\n",
       "      <td>False</td>\n",
       "    </tr>\n",
       "    <tr>\n",
       "      <th>Oldest-Old</th>\n",
       "      <td>0.806206</td>\n",
       "      <td>1.756413e-04</td>\n",
       "      <td>False</td>\n",
       "    </tr>\n",
       "  </tbody>\n",
       "</table>\n",
       "</div>"
      ],
      "text/plain": [
       "                            W          pval  normal\n",
       "Group                                              \n",
       "Adolescent           0.879088  1.703723e-02   False\n",
       "Young Adult          0.855330  5.184404e-16   False\n",
       "Middle-Aged Adult    0.880857  2.844875e-08   False\n",
       "Elderly (Young-Old)  0.868207  2.269129e-10   False\n",
       "Oldest-Old           0.806206  1.756413e-04   False"
      ]
     },
     "execution_count": 90,
     "metadata": {},
     "output_type": "execute_result"
    }
   ],
   "source": [
    "age_normality"
   ]
  },
  {
   "cell_type": "markdown",
   "id": "c09f5880",
   "metadata": {},
   "source": [
    "<h3>Homogeneity of Variances (Levene's)</h3>"
   ]
  },
  {
   "cell_type": "code",
   "execution_count": 91,
   "id": "a34f84d8",
   "metadata": {},
   "outputs": [
    {
     "data": {
      "text/html": [
       "<div>\n",
       "<style scoped>\n",
       "    .dataframe tbody tr th:only-of-type {\n",
       "        vertical-align: middle;\n",
       "    }\n",
       "\n",
       "    .dataframe tbody tr th {\n",
       "        vertical-align: top;\n",
       "    }\n",
       "\n",
       "    .dataframe thead th {\n",
       "        text-align: right;\n",
       "    }\n",
       "</style>\n",
       "<table border=\"1\" class=\"dataframe\">\n",
       "  <thead>\n",
       "    <tr style=\"text-align: right;\">\n",
       "      <th></th>\n",
       "      <th>W</th>\n",
       "      <th>pval</th>\n",
       "      <th>equal_var</th>\n",
       "    </tr>\n",
       "  </thead>\n",
       "  <tbody>\n",
       "    <tr>\n",
       "      <th>levene</th>\n",
       "      <td>1.217865</td>\n",
       "      <td>0.30196</td>\n",
       "      <td>True</td>\n",
       "    </tr>\n",
       "  </tbody>\n",
       "</table>\n",
       "</div>"
      ],
      "text/plain": [
       "               W     pval  equal_var\n",
       "levene  1.217865  0.30196       True"
      ]
     },
     "execution_count": 91,
     "metadata": {},
     "output_type": "execute_result"
    }
   ],
   "source": [
    "age_homoscedasticity"
   ]
  },
  {
   "cell_type": "markdown",
   "id": "d59670b3",
   "metadata": {},
   "source": [
    "<h2>Group Comparison (Kruskal-Walis)</h2>"
   ]
  },
  {
   "cell_type": "code",
   "execution_count": 92,
   "id": "c45c2f4e",
   "metadata": {},
   "outputs": [],
   "source": [
    "age_kruskal = group_comparison(age_data, test=\"kruskal\")"
   ]
  },
  {
   "cell_type": "code",
   "execution_count": 93,
   "id": "62350507",
   "metadata": {},
   "outputs": [
    {
     "data": {
      "text/html": [
       "<div>\n",
       "<style scoped>\n",
       "    .dataframe tbody tr th:only-of-type {\n",
       "        vertical-align: middle;\n",
       "    }\n",
       "\n",
       "    .dataframe tbody tr th {\n",
       "        vertical-align: top;\n",
       "    }\n",
       "\n",
       "    .dataframe thead th {\n",
       "        text-align: right;\n",
       "    }\n",
       "</style>\n",
       "<table border=\"1\" class=\"dataframe\">\n",
       "  <thead>\n",
       "    <tr style=\"text-align: right;\">\n",
       "      <th></th>\n",
       "      <th>Source</th>\n",
       "      <th>ddof1</th>\n",
       "      <th>H</th>\n",
       "      <th>p-unc</th>\n",
       "      <th>Significance</th>\n",
       "    </tr>\n",
       "  </thead>\n",
       "  <tbody>\n",
       "    <tr>\n",
       "      <th>Kruskal</th>\n",
       "      <td>Group</td>\n",
       "      <td>4</td>\n",
       "      <td>5.460023</td>\n",
       "      <td>0.243266</td>\n",
       "      <td>False</td>\n",
       "    </tr>\n",
       "  </tbody>\n",
       "</table>\n",
       "</div>"
      ],
      "text/plain": [
       "        Source  ddof1         H     p-unc  Significance\n",
       "Kruskal  Group      4  5.460023  0.243266         False"
      ]
     },
     "execution_count": 93,
     "metadata": {},
     "output_type": "execute_result"
    }
   ],
   "source": [
    "age_kruskal "
   ]
  },
  {
   "cell_type": "markdown",
   "id": "e74cc916",
   "metadata": {},
   "source": [
    "<h1 style=\"text-align: center\" >Sex</h1>"
   ]
  },
  {
   "cell_type": "markdown",
   "id": "baed027c",
   "metadata": {},
   "source": [
    "<h2>Test Assumptions</h2>"
   ]
  },
  {
   "cell_type": "code",
   "execution_count": 94,
   "id": "ce290939",
   "metadata": {},
   "outputs": [],
   "source": [
    "sex_normality, sex_homoscedasticity, sex_shape, sex_data = assumptions_test(\"variable_data/sex.csv\")"
   ]
  },
  {
   "cell_type": "markdown",
   "id": "1c275578",
   "metadata": {},
   "source": [
    "<h3>Data Dimensions</h3>"
   ]
  },
  {
   "cell_type": "code",
   "execution_count": 95,
   "id": "f845ac43",
   "metadata": {},
   "outputs": [
    {
     "name": "stdout",
     "output_type": "stream",
     "text": [
      "No. Observations: 615\n",
      "No. Groups: 2\n"
     ]
    }
   ],
   "source": [
    "print(sex_shape)"
   ]
  },
  {
   "cell_type": "markdown",
   "id": "5cb7a218",
   "metadata": {},
   "source": [
    "<h3>Normality Test (Shapiro-Wilk)</h3>"
   ]
  },
  {
   "cell_type": "code",
   "execution_count": 96,
   "id": "39b323de",
   "metadata": {},
   "outputs": [
    {
     "data": {
      "text/html": [
       "<div>\n",
       "<style scoped>\n",
       "    .dataframe tbody tr th:only-of-type {\n",
       "        vertical-align: middle;\n",
       "    }\n",
       "\n",
       "    .dataframe tbody tr th {\n",
       "        vertical-align: top;\n",
       "    }\n",
       "\n",
       "    .dataframe thead th {\n",
       "        text-align: right;\n",
       "    }\n",
       "</style>\n",
       "<table border=\"1\" class=\"dataframe\">\n",
       "  <thead>\n",
       "    <tr style=\"text-align: right;\">\n",
       "      <th></th>\n",
       "      <th>W</th>\n",
       "      <th>pval</th>\n",
       "      <th>normal</th>\n",
       "    </tr>\n",
       "    <tr>\n",
       "      <th>Group</th>\n",
       "      <th></th>\n",
       "      <th></th>\n",
       "      <th></th>\n",
       "    </tr>\n",
       "  </thead>\n",
       "  <tbody>\n",
       "    <tr>\n",
       "      <th>Male</th>\n",
       "      <td>0.840864</td>\n",
       "      <td>2.736691e-16</td>\n",
       "      <td>False</td>\n",
       "    </tr>\n",
       "    <tr>\n",
       "      <th>Female</th>\n",
       "      <td>0.876981</td>\n",
       "      <td>1.023374e-15</td>\n",
       "      <td>False</td>\n",
       "    </tr>\n",
       "  </tbody>\n",
       "</table>\n",
       "</div>"
      ],
      "text/plain": [
       "               W          pval  normal\n",
       "Group                                 \n",
       "Male    0.840864  2.736691e-16   False\n",
       "Female  0.876981  1.023374e-15   False"
      ]
     },
     "execution_count": 96,
     "metadata": {},
     "output_type": "execute_result"
    }
   ],
   "source": [
    "sex_normality"
   ]
  },
  {
   "cell_type": "markdown",
   "id": "d89a7804",
   "metadata": {},
   "source": [
    "<h3>Homogeneity of Variances (Levene's)</h3>"
   ]
  },
  {
   "cell_type": "code",
   "execution_count": 97,
   "id": "9c9082f4",
   "metadata": {},
   "outputs": [
    {
     "data": {
      "text/html": [
       "<div>\n",
       "<style scoped>\n",
       "    .dataframe tbody tr th:only-of-type {\n",
       "        vertical-align: middle;\n",
       "    }\n",
       "\n",
       "    .dataframe tbody tr th {\n",
       "        vertical-align: top;\n",
       "    }\n",
       "\n",
       "    .dataframe thead th {\n",
       "        text-align: right;\n",
       "    }\n",
       "</style>\n",
       "<table border=\"1\" class=\"dataframe\">\n",
       "  <thead>\n",
       "    <tr style=\"text-align: right;\">\n",
       "      <th></th>\n",
       "      <th>W</th>\n",
       "      <th>pval</th>\n",
       "      <th>equal_var</th>\n",
       "    </tr>\n",
       "  </thead>\n",
       "  <tbody>\n",
       "    <tr>\n",
       "      <th>levene</th>\n",
       "      <td>0.538139</td>\n",
       "      <td>0.463486</td>\n",
       "      <td>True</td>\n",
       "    </tr>\n",
       "  </tbody>\n",
       "</table>\n",
       "</div>"
      ],
      "text/plain": [
       "               W      pval  equal_var\n",
       "levene  0.538139  0.463486       True"
      ]
     },
     "execution_count": 97,
     "metadata": {},
     "output_type": "execute_result"
    }
   ],
   "source": [
    "sex_homoscedasticity"
   ]
  },
  {
   "cell_type": "markdown",
   "id": "ff206229",
   "metadata": {},
   "source": [
    "<h2>t-Test</h2>"
   ]
  },
  {
   "cell_type": "code",
   "execution_count": 98,
   "id": "ea1eed25",
   "metadata": {},
   "outputs": [],
   "source": [
    "sex_raw_data = pd.read_csv(\"variable_data/sex.csv\")\n",
    "sex_ttest = pg.ttest(x=sex_raw_data['Male'], y=sex_raw_data['Female'])\n",
    "sex_ttest['Significance'] = sex_ttest['p-val'].map(lambda p: True if p < 0.05 else False)"
   ]
  },
  {
   "cell_type": "code",
   "execution_count": 99,
   "id": "fc984777",
   "metadata": {},
   "outputs": [
    {
     "data": {
      "text/html": [
       "<div>\n",
       "<style scoped>\n",
       "    .dataframe tbody tr th:only-of-type {\n",
       "        vertical-align: middle;\n",
       "    }\n",
       "\n",
       "    .dataframe tbody tr th {\n",
       "        vertical-align: top;\n",
       "    }\n",
       "\n",
       "    .dataframe thead th {\n",
       "        text-align: right;\n",
       "    }\n",
       "</style>\n",
       "<table border=\"1\" class=\"dataframe\">\n",
       "  <thead>\n",
       "    <tr style=\"text-align: right;\">\n",
       "      <th></th>\n",
       "      <th>T</th>\n",
       "      <th>dof</th>\n",
       "      <th>alternative</th>\n",
       "      <th>p-val</th>\n",
       "      <th>CI95%</th>\n",
       "      <th>cohen-d</th>\n",
       "      <th>BF10</th>\n",
       "      <th>power</th>\n",
       "      <th>Significance</th>\n",
       "    </tr>\n",
       "  </thead>\n",
       "  <tbody>\n",
       "    <tr>\n",
       "      <th>T-test</th>\n",
       "      <td>-0.618002</td>\n",
       "      <td>597.61657</td>\n",
       "      <td>two-sided</td>\n",
       "      <td>0.53681</td>\n",
       "      <td>[-1.72, 0.89]</td>\n",
       "      <td>0.049954</td>\n",
       "      <td>0.109</td>\n",
       "      <td>0.094472</td>\n",
       "      <td>False</td>\n",
       "    </tr>\n",
       "  </tbody>\n",
       "</table>\n",
       "</div>"
      ],
      "text/plain": [
       "               T        dof alternative    p-val          CI95%   cohen-d  \\\n",
       "T-test -0.618002  597.61657   two-sided  0.53681  [-1.72, 0.89]  0.049954   \n",
       "\n",
       "         BF10     power  Significance  \n",
       "T-test  0.109  0.094472         False  "
      ]
     },
     "execution_count": 99,
     "metadata": {},
     "output_type": "execute_result"
    }
   ],
   "source": [
    "sex_ttest"
   ]
  }
 ],
 "metadata": {
  "kernelspec": {
   "display_name": ".venv",
   "language": "python",
   "name": "python3"
  },
  "language_info": {
   "codemirror_mode": {
    "name": "ipython",
    "version": 3
   },
   "file_extension": ".py",
   "mimetype": "text/x-python",
   "name": "python",
   "nbconvert_exporter": "python",
   "pygments_lexer": "ipython3",
   "version": "3.13.2"
  }
 },
 "nbformat": 4,
 "nbformat_minor": 5
}
