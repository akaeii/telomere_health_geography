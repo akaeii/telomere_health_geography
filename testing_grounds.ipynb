{
 "cells": [
  {
   "cell_type": "code",
   "execution_count": 37,
   "metadata": {},
   "outputs": [],
   "source": [
    "import pandas as pd\n",
    "import numpy as np\n",
    "from sklearn.svm import SVC\n",
    "import shap\n",
    "import pickle\n",
    "\n",
    "from sklearn.pipeline import make_pipeline, Pipeline\n",
    "from sklearn.preprocessing import StandardScaler\n",
    "from sklearn.feature_selection import VarianceThreshold\n",
    "from sklearn.model_selection import train_test_split, cross_val_score, StratifiedKFold\n",
    "import warnings\n",
    "\n",
    "warnings.simplefilter(action=\"ignore\", category=FutureWarning)"
   ]
  },
  {
   "cell_type": "markdown",
   "metadata": {},
   "source": [
    "<h1 style=\"text-align:center\">Dataset Loading</h1>"
   ]
  },
  {
   "cell_type": "code",
   "execution_count": 38,
   "metadata": {},
   "outputs": [],
   "source": [
    "def read_data():\n",
    "    df = pd.read_csv(\"./input_/telomere_geography_health_3_18.csv\")\n",
    "    return df\n",
    "\n",
    "def categorical_to_numeric(df, column, mapping, regex=False):\n",
    "    df[column] = df[column].replace(mapping, regex=regex)\n",
    "\n",
    "def fill_na(df, column, default):\n",
    "    fill_value = np.nan\n",
    "    if default == \"median\":\n",
    "        fill_value = df[column].median()\n",
    "    elif default == \"mode\":\n",
    "        fill_value = df[column].mode()[0]\n",
    "\n",
    "    df[column] = df[column].fillna(fill_value)"
   ]
  },
  {
   "cell_type": "markdown",
   "metadata": {},
   "source": [
    "<h1 style=\"text-align:center\">Data Preprocessing</h1>"
   ]
  },
  {
   "cell_type": "code",
   "execution_count": 39,
   "metadata": {},
   "outputs": [],
   "source": [
    "def preprocess_data(df):\n",
    "\n",
    "    categorical_to_numeric(\n",
    "        df,\n",
    "        \"cigarette_smoking\",\n",
    "        {\n",
    "            \"No information\": np.nan,\n",
    "            \"Former Smoker\": np.nan,\n",
    "            \"Never Smoker\": 0,\n",
    "            \"Occasional Smoker\": 1,\n",
    "            \"Regular Smoker\": 2,\n",
    "        },\n",
    "    )\n",
    "\n",
    "    categorical_to_numeric(\n",
    "        df,\n",
    "        \"physical_activity_cohort\",\n",
    "        {\n",
    "            \"No information\": np.nan,\n",
    "            \"Sedentary (Inactive)\": 0,\n",
    "            \"Minimally Active\": 1,\n",
    "            \"Lightly Active\": 2,\n",
    "            \"Moderately Active\": 3,\n",
    "            \"Highly Active\": 4,\n",
    "        },\n",
    "    )\n",
    "\n",
    "    categorical_to_numeric(\n",
    "        df,\n",
    "        \"alcohol_drinking\",\n",
    "        {\n",
    "            \"No information\": np.nan,\n",
    "            \"Former Drinker\": np.nan,\n",
    "            \"Never Drinker\": 0,\n",
    "            \"Occasional Drinker\": 1,\n",
    "            \"Moderate Drinker\": 2,\n",
    "            \"Heavy Drinker\": 3,\n",
    "        },\n",
    "    )\n",
    "\n",
    "    categorical_to_numeric(\n",
    "        df,\n",
    "        \"bp_category\",\n",
    "        {\n",
    "            \"No information\": np.nan,\n",
    "            \"Hypotension (Low BP)\": 0,\n",
    "            \"Normal BP\": 1,\n",
    "            \"Elevated BP\": 2,\n",
    "            \"Hypertension Stage 1\": 3,\n",
    "            \"Hypertension Stage 2\": 4,\n",
    "            \"Hypertensive Crisis\": 5,\n",
    "        },\n",
    "    )\n",
    "\n",
    "    categorical_to_numeric(\n",
    "        df,\n",
    "        \"cardiovascular_disease_diagnosis\",\n",
    "        {\n",
    "            \"^No known*\": 0,\n",
    "            \"^Non-cardiovascular*\": 0,\n",
    "            \"^Single.*\": 1,\n",
    "            \"^Multi.*\": 1,\n",
    "        },\n",
    "        regex=True,\n",
    "    )\n",
    "\n",
    "    categorical_to_numeric(\n",
    "        df,\n",
    "        \"cancer_diagnosis\",\n",
    "        {\n",
    "            \"^Clinically Healthy*\": 0,\n",
    "            \"^Non-oncologic*\": 0,\n",
    "            \"^Single.*\": 1,\n",
    "            \"^Multi.*\": 1,\n",
    "        },\n",
    "        regex=True,\n",
    "    )\n",
    "\n",
    "    categorical_to_numeric(\n",
    "        df,\n",
    "        \"depression_anxiety\",\n",
    "        {\n",
    "            \"^No Known*\": 0,\n",
    "            \"^Anxiety and/or*\": 1,\n",
    "            \"^Multi.*\": 1,\n",
    "        },\n",
    "        regex=True,\n",
    "    )\n",
    "\n",
    "    categorical_to_numeric(\n",
    "        df,\n",
    "        \"allergy\",\n",
    "        {\n",
    "            \"^No Diagnosed*\": 0,\n",
    "            \"^Single.*\": 1,\n",
    "            \"^Multi.*\": 1,\n",
    "        },\n",
    "        regex=True,\n",
    "    )\n",
    "\n",
    "    categorical_to_numeric(\n",
    "        df,\n",
    "        \"diabetes_diagnosis\",\n",
    "        {\n",
    "            \"^No known diagnosis*\": 0,\n",
    "            \"^Diagnosed with*\": 1,\n",
    "        },\n",
    "        regex=True,\n",
    "    )\n",
    "\n",
    "    df[\"hr\"] = pd.to_numeric(df[\"hr\"], errors=\"coerce\")\n",
    "    df[\"rr\"] = pd.to_numeric(df[\"rr\"], errors=\"coerce\")\n",
    "\n",
    "    fill_na(df, \"hr\", \"median\")\n",
    "    fill_na(df, \"rr\", \"median\")\n",
    "    fill_na(df, \"bmi\", \"median\")\n",
    "    fill_na(df, \"alcohol_drinking\", \"mode\")\n",
    "    fill_na(df, \"cigarette_smoking\", \"mode\")\n",
    "    fill_na(df, \"bp_category\", \"mode\")\n",
    "    fill_na(df, \"physical_activity_cohort\", \"mode\")\n",
    "\n",
    "    df = pd.get_dummies(df, columns=[\"sex\", \"rural_or_urban\"])\n",
    "    return df"
   ]
  },
  {
   "cell_type": "markdown",
   "metadata": {},
   "source": [
    "<h1 style=\"text-align:center\">Model Training</h1>"
   ]
  },
  {
   "cell_type": "code",
   "execution_count": 40,
   "metadata": {},
   "outputs": [],
   "source": [
    "def train_model(df, to_predict):\n",
    "    y = df.pop(to_predict)\n",
    "    X = df\n",
    "\n",
    "    X_train, X_test, y_train, y_test = train_test_split(X, y, test_size=0.25, random_state=43)\n",
    "\n",
    "    # Feature Selection, Scaling and Training Pipeline\n",
    "    pipeline = Pipeline(\n",
    "        [(\"selector\", VarianceThreshold(threshold=0.1)),\n",
    "         (\"scaler\", StandardScaler()),\n",
    "         (\"lsvc\", SVC(kernel=\"linear\", probability=True))]\n",
    "    )\n",
    "\n",
    "    #Training Model\n",
    "    pipeline.fit(X_train, y_train)\n",
    "\n",
    "    # Compute Cross-Validation Accuracy\n",
    "    cv_scores = cross_val_score(pipeline, X_train, y_train, cv=5, scoring=\"accuracy\")\n",
    "    cv_accuracy = np.mean(cv_scores)  # Average accuracy across folds\n",
    "\n",
    "    return cv_accuracy"
   ]
  },
  {
   "cell_type": "code",
   "execution_count": 41,
   "metadata": {},
   "outputs": [],
   "source": [
    "cvd_df = read_data()\n",
    "cvd_df_preprocessed = preprocess_data(cvd_df)\n",
    "\n",
    "cvd_cv_acc = train_model(cvd_df_preprocessed, \"cardiovascular_disease_diagnosis\")"
   ]
  },
  {
   "cell_type": "code",
   "execution_count": 42,
   "metadata": {},
   "outputs": [
    {
     "data": {
      "text/plain": [
       "np.float64(0.817625754527163)"
      ]
     },
     "execution_count": 42,
     "metadata": {},
     "output_type": "execute_result"
    }
   ],
   "source": [
    "cvd_cv_acc"
   ]
  }
 ],
 "metadata": {
  "kernelspec": {
   "display_name": "venv",
   "language": "python",
   "name": "python3"
  },
  "language_info": {
   "codemirror_mode": {
    "name": "ipython",
    "version": 3
   },
   "file_extension": ".py",
   "mimetype": "text/x-python",
   "name": "python",
   "nbconvert_exporter": "python",
   "pygments_lexer": "ipython3",
   "version": "3.13.2"
  }
 },
 "nbformat": 4,
 "nbformat_minor": 2
}
